{
  "cells": [
    {
      "cell_type": "markdown",
      "metadata": {
        "id": "view-in-github",
        "colab_type": "text"
      },
      "source": [
        "<a href=\"https://colab.research.google.com/github/kmin2426/EECS-498-007-/blob/main/pytorch101.ipynb\" target=\"_parent\"><img src=\"https://colab.research.google.com/assets/colab-badge.svg\" alt=\"Open In Colab\"/></a>"
      ]
    },
    {
      "cell_type": "markdown",
      "metadata": {
        "id": "QcJK3kXl--c3"
      },
      "source": [
        "# EECS 498-007/598-005 Assignment 1-1: PyTorch 101\n",
        "\n",
        "Before we start, please put your name and UMID in following format\n",
        "\n",
        ": Dongmin KIM #2021048140"
      ]
    },
    {
      "cell_type": "markdown",
      "metadata": {
        "id": "7sA2iBcm_cPb"
      },
      "source": [
        "**Your Answer:**   \n",
        "Dongmin Kim"
      ]
    },
    {
      "cell_type": "markdown",
      "metadata": {
        "id": "kQndOAmiVTO3"
      },
      "source": [
        "# Setup Code\n",
        "Before getting started we need to run some boilerplate code to set up our environment. You'll need to rerun this setup code each time you start the notebook.\n",
        "\n",
        "First, run this cell load the [autoreload](https://ipython.readthedocs.io/en/stable/config/extensions/autoreload.html?highlight=autoreload) extension. This allows us to edit `.py` source files, and re-import them into the notebook for a seamless editing and debugging experience."
      ]
    },
    {
      "cell_type": "code",
      "execution_count": 4,
      "metadata": {
        "id": "H5PzjwH7VTO4"
      },
      "outputs": [],
      "source": [
        "%load_ext autoreload\n",
        "%autoreload 2"
      ]
    },
    {
      "cell_type": "markdown",
      "metadata": {
        "id": "bCtoiSyVVTO8"
      },
      "source": [
        "### Google Colab Setup\n",
        "Next we need to run a few commands to set up our environment on Google Colab. If you are running this notebook on a local machine you can skip this section.\n",
        "\n",
        "Run the following cell to mount your Google Drive. Follow the link, sign in to your Google account (the same account you used to store this notebook!) and copy the authorization code into the text box that appears below."
      ]
    },
    {
      "cell_type": "code",
      "execution_count": 5,
      "metadata": {
        "id": "tHG0slB6VTO8",
        "colab": {
          "base_uri": "https://localhost:8080/"
        },
        "outputId": "b1f7fd66-51d5-4673-c771-8db98fa43973"
      },
      "outputs": [
        {
          "output_type": "stream",
          "name": "stdout",
          "text": [
            "Mounted at /content/drive\n"
          ]
        }
      ],
      "source": [
        "from google.colab import drive\n",
        "drive.mount('/content/drive')"
      ]
    },
    {
      "cell_type": "markdown",
      "metadata": {
        "id": "UWjXo-vXVTO_"
      },
      "source": [
        "Now recall the path in your Google Drive where you uploaded this notebook, fill it in below. If everything is working correctly then running the folowing cell should print the filenames from the assignment:\n",
        "\n",
        "```\n",
        "['pytorch101.py', 'knn.py', 'knn.ipynb', 'eecs598', 'pytorch101.ipynb']\n",
        "```"
      ]
    },
    {
      "cell_type": "code",
      "execution_count": 6,
      "metadata": {
        "id": "KqMvJnNHVTPA",
        "colab": {
          "base_uri": "https://localhost:8080/"
        },
        "outputId": "f4cbad29-5531-483d-bb9d-e3b3ef711515"
      },
      "outputs": [
        {
          "output_type": "stream",
          "name": "stdout",
          "text": [
            "['.DS_Store', 'pytorch101.py', 'knn.py', 'eecs598', '__pycache__', 'knn.ipynb', 'pytorch101.ipynb']\n"
          ]
        }
      ],
      "source": [
        "import os\n",
        "\n",
        "# Google Drive에 실제로 과제 폴더를 올린 경로를 여기에 넣으세요\n",
        "GOOGLE_DRIVE_PATH_AFTER_MYDRIVE = '/content/drive/MyDrive/MichiganUniv/Week1/A1'\n",
        "\n",
        "# 전체 절대 경로\n",
        "GOOGLE_DRIVE_PATH = os.path.join('/content/drive/MyDrive', GOOGLE_DRIVE_PATH_AFTER_MYDRIVE)\n",
        "\n",
        "# 폴더 안 파일 리스트 출력\n",
        "print(os.listdir(GOOGLE_DRIVE_PATH))\n"
      ]
    },
    {
      "cell_type": "markdown",
      "metadata": {
        "id": "ko-wLqHWVTPC"
      },
      "source": [
        "Once you have successfully mounted your Google Drive and located the path to this assignment, run the following cell to allow us to import from the `.py` files of this assignment. If it works correctly, it should print the message:\n",
        "\n",
        "```\n",
        "Hello from pytorch101.py!\n",
        "```\n",
        "\n",
        "as well as the last edit time for the file `pytorch101.py`."
      ]
    },
    {
      "cell_type": "code",
      "execution_count": 7,
      "metadata": {
        "id": "1AoThF9eVTPD",
        "colab": {
          "base_uri": "https://localhost:8080/"
        },
        "outputId": "eaf95fc0-86a1-4ace-96b2-bfbbff06e58f"
      },
      "outputs": [
        {
          "output_type": "stream",
          "name": "stdout",
          "text": [
            "Hello from pytorch101.py!\n",
            "pytorch101.py last edited on Sun Apr 27 05:35:21 2025\n"
          ]
        }
      ],
      "source": [
        "import sys\n",
        "sys.path.append(GOOGLE_DRIVE_PATH)\n",
        "\n",
        "import time, os\n",
        "os.environ[\"TZ\"] = \"US/Eastern\"\n",
        "time.tzset()\n",
        "\n",
        "from pytorch101 import hello\n",
        "hello()\n",
        "\n",
        "pytorch101_path = os.path.join(GOOGLE_DRIVE_PATH, 'pytorch101.py')\n",
        "pytorch101_edit_time = time.ctime(os.path.getmtime(pytorch101_path))\n",
        "print('pytorch101.py last edited on %s' % pytorch101_edit_time)"
      ]
    },
    {
      "cell_type": "markdown",
      "metadata": {
        "id": "Qc83ETI1a3o9"
      },
      "source": [
        "## Introduction\n",
        "\n",
        "Python 3 and [PyTorch](https://pytorch.org/) will be used throughout the semseter, so it is important to be familiar with them. This material in this notebook draws from the [Stanford CS231n](http://cs231n.github.io/python-numpy-tutorial/) and [CS228](https://github.com/kuleshov/cs228-material/blob/master/tutorials/python/cs228-python-tutorial.ipynb) Python and numpy tutorials, but this material focuses mainly on PyTorch.\n",
        "\n",
        "This notebook will walk you through many of the important features of PyTorch that you will need to use throughout the semester. In some cells and files you will see code blocks that look like this:\n",
        "\n",
        "```python\n",
        "##############################################################################\n",
        "#                    TODO: Write the equation for a line                     #\n",
        "##############################################################################\n",
        "pass\n",
        "##############################################################################\n",
        "#                              END OF YOUR CODE                              #\n",
        "##############################################################################\n",
        "```\n",
        "\n",
        "You should replace the `pass` statement with your own code and leave the blocks intact, like this:\n",
        "\n",
        "```python\n",
        "##############################################################################\n",
        "#                    TODO: Write the equation for a line                     #\n",
        "##############################################################################\n",
        "y = m * x + b\n",
        "##############################################################################\n",
        "#                              END OF YOUR CODE                              #\n",
        "##############################################################################\n",
        "```\n",
        "\n",
        "When completing the notebook, please adhere to the following rules:\n",
        "- Do not write or modify any code outside of code blocks\n",
        "- Do not add or delete any cells from the notebook. You may add new cells to perform scatch work, but delete them before submitting.\n",
        "- Run all cells before submitting. **You will only get credit for code that has been run!**.\n",
        "\n",
        "The last point is extremely important and bears repeating:\n",
        "\n",
        "### We will not re-run your notebook -- you will only get credit for cells that have been run\n",
        "\n",
        "This notebook contains many inline sanity checks for the code you write. However, **passing these sanity checks does not mean your code is correct!** During grading we may run your code on additional inputs, and we may look at your code to make sure you've followed the specific guildelines for each implementation. You are encouraged to write additional test cases for the functions you are asked to write instead of solely relying on the sanity checks in the notebook."
      ]
    },
    {
      "cell_type": "markdown",
      "metadata": {
        "id": "hQrEwOpXb9Gh"
      },
      "source": [
        "# Python 3\n"
      ]
    },
    {
      "cell_type": "markdown",
      "metadata": {
        "id": "xAKwfCs_mK3d"
      },
      "source": [
        "If you're unfamiliar with Python 3, here are some of the most common changes from Python 2 to look out for.\n"
      ]
    },
    {
      "cell_type": "markdown",
      "metadata": {
        "id": "zjosrOn8mOMV"
      },
      "source": [
        "### Print is a function"
      ]
    },
    {
      "cell_type": "code",
      "execution_count": 8,
      "metadata": {
        "id": "O41SjFuamR7d",
        "colab": {
          "base_uri": "https://localhost:8080/"
        },
        "outputId": "edd1ab26-ae9b-49ba-9f97-11ae567ab039"
      },
      "outputs": [
        {
          "output_type": "stream",
          "name": "stdout",
          "text": [
            "Hello!\n"
          ]
        }
      ],
      "source": [
        "print(\"Hello!\")"
      ]
    },
    {
      "cell_type": "markdown",
      "metadata": {
        "id": "nEh1swLBmQN-"
      },
      "source": [
        "Without parentheses, printing will not work."
      ]
    },
    {
      "cell_type": "markdown",
      "metadata": {
        "id": "OgPaSNS2mVPn"
      },
      "source": [
        "### Floating point division by default"
      ]
    },
    {
      "cell_type": "code",
      "execution_count": 9,
      "metadata": {
        "id": "SQKlRZ8KmYDl",
        "colab": {
          "base_uri": "https://localhost:8080/"
        },
        "outputId": "63ae28e7-3d87-4c6d-af43-4db2993cc662"
      },
      "outputs": [
        {
          "output_type": "execute_result",
          "data": {
            "text/plain": [
              "2.5"
            ]
          },
          "metadata": {},
          "execution_count": 9
        }
      ],
      "source": [
        "5 / 2"
      ]
    },
    {
      "cell_type": "markdown",
      "metadata": {
        "id": "DOmfK0WWmb2V"
      },
      "source": [
        "To do integer division, we use two backslashes:"
      ]
    },
    {
      "cell_type": "code",
      "execution_count": 10,
      "metadata": {
        "id": "UUg1MjiPmgNX",
        "colab": {
          "base_uri": "https://localhost:8080/"
        },
        "outputId": "05feba24-7f66-4c0a-8495-88433e5e939e"
      },
      "outputs": [
        {
          "output_type": "execute_result",
          "data": {
            "text/plain": [
              "2"
            ]
          },
          "metadata": {},
          "execution_count": 10
        }
      ],
      "source": [
        "5 // 2"
      ]
    },
    {
      "cell_type": "markdown",
      "metadata": {
        "id": "zeH5501nmh7W"
      },
      "source": [
        "### No xrange"
      ]
    },
    {
      "cell_type": "markdown",
      "metadata": {
        "id": "3wNKyyilmkMy"
      },
      "source": [
        "The xrange from Python 2 is now merged into \"range\" for Python 3 and there is no xrange in Python 3. In Python 3, range(3) does not create a list of 3 elements as it would in Python 2, rather just creates a more memory efficient iterator.\n",
        "\n",
        "Hence,  \n",
        "xrange in Python 3: Does not exist  \n",
        "range in Python 3: Has very similar behavior to Python 2's xrange"
      ]
    },
    {
      "cell_type": "code",
      "execution_count": 11,
      "metadata": {
        "id": "dP8Dk9PAmnQh",
        "colab": {
          "base_uri": "https://localhost:8080/"
        },
        "outputId": "484e6318-607a-4eb3-80c8-aea4b6459397"
      },
      "outputs": [
        {
          "output_type": "stream",
          "name": "stdout",
          "text": [
            "0\n",
            "1\n",
            "2\n"
          ]
        }
      ],
      "source": [
        "for i in range(3):\n",
        "    print(i)"
      ]
    },
    {
      "cell_type": "code",
      "execution_count": 12,
      "metadata": {
        "id": "6SKbKDgLmqd-",
        "colab": {
          "base_uri": "https://localhost:8080/"
        },
        "outputId": "00b4a1b4-d7de-4606-aa30-c28aae0dd98f"
      },
      "outputs": [
        {
          "output_type": "execute_result",
          "data": {
            "text/plain": [
              "range(0, 3)"
            ]
          },
          "metadata": {},
          "execution_count": 12
        }
      ],
      "source": [
        "range(3)"
      ]
    },
    {
      "cell_type": "code",
      "execution_count": 13,
      "metadata": {
        "id": "Wm_VcW3VmsSD",
        "colab": {
          "base_uri": "https://localhost:8080/"
        },
        "outputId": "87de7c05-72c7-486a-d393-179ebf091b8b"
      },
      "outputs": [
        {
          "output_type": "stream",
          "name": "stdout",
          "text": [
            "[0, 1, 2]\n"
          ]
        }
      ],
      "source": [
        "# If need be, can use the following to get a similar behavior to Python 2's range:\n",
        "print(list(range(3)))"
      ]
    },
    {
      "cell_type": "markdown",
      "metadata": {
        "id": "1MEmHrgBsgX4"
      },
      "source": [
        "# PyTorch"
      ]
    },
    {
      "cell_type": "markdown",
      "metadata": {
        "id": "c3e_Nux0siHo"
      },
      "source": [
        "[PyTorch](https://pytorch.org/) is an open source machine learning framework. At its core, PyTorch provides a few key features:\n",
        "\n",
        "- A multidimensional **Tensor** object, similar to [numpy](https://numpy.org/) but with GPU accelleration.\n",
        "- An optimized **autograd** engine for automatically computing derivatives\n",
        "- A clean, modular API for building and deploying **deep learning models**\n",
        "\n",
        "We will use PyTorch for all programming assignments throughout the semester. This notebook will focus on the **Tensor API**, as it is the main part of PyTorch that we will use for the first few assignments.\n",
        "\n",
        "You can find more information about PyTorch by following one of the [oficial tutorials](https://pytorch.org/tutorials/) or by [reading the documentation](https://pytorch.org/docs/stable/)."
      ]
    },
    {
      "cell_type": "markdown",
      "metadata": {
        "id": "zdiO3_y-vKQ9"
      },
      "source": [
        "To use PyTorch, we first need to import the `torch` package.\n",
        "\n",
        "We also check the version; the assignments in this course will use PyTorch verion 1.10.0, since this is the default version in Google Colab."
      ]
    },
    {
      "cell_type": "code",
      "execution_count": 14,
      "metadata": {
        "id": "sydFm14itrqq",
        "colab": {
          "base_uri": "https://localhost:8080/"
        },
        "outputId": "c86846bc-7a8f-4532-d976-ae2643f0aebc"
      },
      "outputs": [
        {
          "output_type": "stream",
          "name": "stdout",
          "text": [
            "2.6.0+cu124\n"
          ]
        }
      ],
      "source": [
        "import torch\n",
        "print(torch.__version__)"
      ]
    },
    {
      "cell_type": "markdown",
      "source": [
        "For Assignments"
      ],
      "metadata": {
        "id": "H-t2b95x8KT5"
      }
    },
    {
      "cell_type": "code",
      "source": [
        "import torch\n",
        "import numpy as np\n",
        "\n",
        "# Type hints.\n",
        "from typing import List, Tuple\n",
        "from torch import Tensor"
      ],
      "metadata": {
        "id": "oGLa3e218J3e"
      },
      "execution_count": 15,
      "outputs": []
    },
    {
      "cell_type": "markdown",
      "metadata": {
        "id": "HrBSx6hYu8ca"
      },
      "source": [
        "## Tensor Basics"
      ]
    },
    {
      "cell_type": "markdown",
      "metadata": {
        "id": "LWagwmXuvIle"
      },
      "source": [
        "### Creating and Accessing tensors"
      ]
    },
    {
      "cell_type": "markdown",
      "metadata": {
        "id": "Bf_SY4RzvAh_"
      },
      "source": [
        "A `torch` **tensor** is a multidimensional grid of values, all of the same type, and is indexed by a tuple of nonnegative integers. The number of dimensions is the **rank** of the tensor; the **shape** of a tensor is a tuple of integers giving the size of the array along each dimension.\n",
        "\n",
        "We can initialize `torch` tensor from nested Python lists. We can access or mutate elements of a PyTorch tensor using square brackets.\n",
        "\n",
        "Accessing an element from a PyTorch tensor returns a PyTorch scalar; we can convert this to a Python scalar using the `.item()` method:"
      ]
    },
    {
      "cell_type": "code",
      "execution_count": 16,
      "metadata": {
        "id": "IpwfVUvPu_lF",
        "colab": {
          "base_uri": "https://localhost:8080/"
        },
        "outputId": "3062208e-00b8-4437-cf7b-13619e58b3d2"
      },
      "outputs": [
        {
          "output_type": "stream",
          "name": "stdout",
          "text": [
            "Here is a:\n",
            "tensor([1, 2, 3])\n",
            "type(a):  <class 'torch.Tensor'>\n",
            "rank of a:  1\n",
            "a.shape:  torch.Size([3])\n",
            "\n",
            "a[0]:  tensor(1)\n",
            "type(a[0]):  <class 'torch.Tensor'>\n",
            "type(a[0].item()):  <class 'int'>\n",
            "\n",
            "a after mutating:\n",
            "tensor([ 1, 10,  3])\n"
          ]
        }
      ],
      "source": [
        "# Create a rank 1 tensor from a Python list\n",
        "a = torch.tensor([1, 2, 3])\n",
        "print('Here is a:')\n",
        "print(a)\n",
        "print('type(a): ', type(a))\n",
        "print('rank of a: ', a.dim())\n",
        "print('a.shape: ', a.shape)\n",
        "\n",
        "# Access elements using square brackets\n",
        "print()\n",
        "print('a[0]: ', a[0])\n",
        "print('type(a[0]): ', type(a[0]))\n",
        "print('type(a[0].item()): ', type(a[0].item()))\n",
        "\n",
        "# Mutate elements using square brackets\n",
        "a[1] = 10\n",
        "print()\n",
        "print('a after mutating:')\n",
        "print(a)"
      ]
    },
    {
      "cell_type": "markdown",
      "metadata": {
        "id": "FZq4zsnLEgXH"
      },
      "source": [
        "The example above shows a one-dimensional tensor; we can similarly create tensors with two or more dimensions:"
      ]
    },
    {
      "cell_type": "code",
      "execution_count": 17,
      "metadata": {
        "id": "7TcvHxpTFUcL",
        "colab": {
          "base_uri": "https://localhost:8080/"
        },
        "outputId": "d0c47f2a-1a40-4181-9ed5-362f19bd149e"
      },
      "outputs": [
        {
          "output_type": "stream",
          "name": "stdout",
          "text": [
            "Here is b:\n",
            "tensor([[1, 2, 3],\n",
            "        [4, 5, 5]])\n",
            "rank of b: 2\n",
            "b.shape:  torch.Size([2, 3])\n",
            "\n",
            "b[0, 1]: tensor(2)\n",
            "b[1, 2]: tensor(5)\n",
            "\n",
            "b after mutating:\n",
            "tensor([[  1,   2,   3],\n",
            "        [  4, 100,   5]])\n"
          ]
        }
      ],
      "source": [
        "# Create a two-dimensional tensor\n",
        "b = torch.tensor([[1, 2, 3], [4, 5, 5]])\n",
        "print('Here is b:')\n",
        "print(b)\n",
        "print('rank of b:', b.dim())\n",
        "print('b.shape: ', b.shape)\n",
        "\n",
        "# Access elements from a multidimensional tensor\n",
        "print()\n",
        "print('b[0, 1]:', b[0, 1])\n",
        "print('b[1, 2]:', b[1, 2])\n",
        "\n",
        "# Mutate elements of a multidimensional tensor\n",
        "b[1, 1] = 100\n",
        "print()\n",
        "print('b after mutating:')\n",
        "print(b)"
      ]
    },
    {
      "cell_type": "markdown",
      "metadata": {
        "id": "BBOsvh53GXa8"
      },
      "source": [
        "Now it's **your turn**. In the file `pytorch101.py`, complete the implementation of the functions `create_sample_tensor`, `mutate_tensor`, and `count_tensor_elements` to practice constructing, mutating, and thinking about the shapes of tensors."
      ]
    },
    {
      "cell_type": "code",
      "source": [
        "def create_sample_tensor() -> Tensor:\n",
        "    x = torch.tensor([[0, 10], [100, 0], [0, 0]])\n",
        "    return x"
      ],
      "metadata": {
        "id": "832EuZYV8Oqx"
      },
      "execution_count": 18,
      "outputs": []
    },
    {
      "cell_type": "code",
      "source": [
        "def mutate_tensor(x: Tensor, indices: List[Tuple[int, int]], values: List[float]) -> Tensor:\n",
        "    for (i,j), value in zip(indices, values):\n",
        "        x[i,j] = value\n",
        "    return x"
      ],
      "metadata": {
        "id": "8XcH4pgf8PhN"
      },
      "execution_count": 19,
      "outputs": []
    },
    {
      "cell_type": "code",
      "source": [
        "def count_tensor_elements(x: Tensor) -> int:\n",
        "    num_elements = None\n",
        "    result = 1\n",
        "    for dim in x.shape: # x.shape 안에 들어있는 차원 수만큼 반복함\n",
        "        result *= dim\n",
        "    num_elements = result\n",
        "    return num_elements"
      ],
      "metadata": {
        "id": "mk0xNLDD8Q1C"
      },
      "execution_count": 20,
      "outputs": []
    },
    {
      "cell_type": "code",
      "execution_count": 21,
      "metadata": {
        "id": "zjCIUzbaVTPs",
        "colab": {
          "base_uri": "https://localhost:8080/"
        },
        "outputId": "13c8fd2a-af30-44b8-a7af-2db0fe462fc2"
      },
      "outputs": [
        {
          "output_type": "stream",
          "name": "stdout",
          "text": [
            "Here is the sample tensor:\n",
            "tensor([[  0,  10],\n",
            "        [100,   0],\n",
            "        [  0,   0]])\n",
            "\n",
            "After mutating:\n",
            "tensor([[ 4, 10],\n",
            "        [ 5,  6],\n",
            "        [ 0,  0]])\n",
            "\n",
            "Correct shape:  True\n",
            "x[0, 0] correct:  True\n",
            "x[1, 0] correct:  True\n",
            "x[1, 1] correct:  True\n",
            "\n",
            "Number of elements in x:  6\n",
            "Correctly counted:  True\n"
          ]
        }
      ],
      "source": [
        "# Create a sample tensor\n",
        "x = create_sample_tensor()\n",
        "print('Here is the sample tensor:')\n",
        "print(x)\n",
        "\n",
        "# Mutate the tensor by setting a few elements\n",
        "indices = [(0, 0), (1, 0), (1, 1)]\n",
        "values = [4, 5, 6]\n",
        "mutate_tensor(x, indices, values)\n",
        "print('\\nAfter mutating:')\n",
        "print(x)\n",
        "print('\\nCorrect shape: ', x.shape == (3, 2))\n",
        "print('x[0, 0] correct: ', x[0, 0].item() == 4)\n",
        "print('x[1, 0] correct: ', x[1, 0].item() == 5)\n",
        "print('x[1, 1] correct: ', x[1, 1].item() == 6)\n",
        "\n",
        "# Check the number of elements in the sample tensor\n",
        "num = count_tensor_elements(x)\n",
        "print('\\nNumber of elements in x: ', num)\n",
        "print('Correctly counted: ', num == 6)"
      ]
    },
    {
      "cell_type": "markdown",
      "metadata": {
        "id": "Yz_VDA3IvP33"
      },
      "source": [
        "### Tensor constructors"
      ]
    },
    {
      "cell_type": "markdown",
      "metadata": {
        "id": "BoAlslEdwV-k"
      },
      "source": [
        "PyTorch provides many convenience methods for constructing tensors; this avoids the need to use Python lists, which can be inefficient when manipulating large amounts of data. Some of the most commonly used tensor constructors are:\n",
        "\n",
        "- [`torch.zeros`](https://pytorch.org/docs/stable/generated/torch.zeros.html): Creates a tensor of all zeros\n",
        "- [`torch.ones`](https://pytorch.org/docs/stable/generated/torch.ones.html): Creates a tensor of all ones\n",
        "- [`torch.rand`](https://pytorch.org/docs/stable/generated/torch.rand.html): Creates a tensor with uniform random numbers\n",
        "\n",
        "You can find a full list of tensor creation operations [in the documentation](https://pytorch.org/docs/stable/torch.html#creation-ops)."
      ]
    },
    {
      "cell_type": "code",
      "execution_count": 22,
      "metadata": {
        "id": "FL6DXGXzxHBA",
        "colab": {
          "base_uri": "https://localhost:8080/"
        },
        "outputId": "77603ee5-cb07-4c29-dbda-4673e660104e"
      },
      "outputs": [
        {
          "output_type": "stream",
          "name": "stdout",
          "text": [
            "tensor of zeros:\n",
            "tensor([[0., 0., 0.],\n",
            "        [0., 0., 0.]])\n",
            "\n",
            "tensor of ones:\n",
            "tensor([[1., 1.]])\n",
            "\n",
            "identity matrix:\n",
            "tensor([[1., 0., 0.],\n",
            "        [0., 1., 0.],\n",
            "        [0., 0., 1.]])\n",
            "\n",
            "random tensor:\n",
            "tensor([[0.7800, 0.6717, 0.2901, 0.8743, 0.2915],\n",
            "        [0.3376, 0.5660, 0.2212, 0.8986, 0.1739],\n",
            "        [0.8916, 0.2671, 0.9166, 0.2276, 0.4949],\n",
            "        [0.2299, 0.1900, 0.4642, 0.4397, 0.3363]])\n"
          ]
        }
      ],
      "source": [
        "# Create a tensor of all zeros\n",
        "a = torch.zeros(2, 3)\n",
        "print('tensor of zeros:')\n",
        "print(a)\n",
        "\n",
        "# Create a tensor of all ones\n",
        "b = torch.ones(1, 2)\n",
        "print('\\ntensor of ones:')\n",
        "print(b)\n",
        "\n",
        "# Create a 3x3 identity matrix\n",
        "c = torch.eye(3)\n",
        "print('\\nidentity matrix:')\n",
        "print(c)\n",
        "\n",
        "# Tensor of random values\n",
        "d = torch.rand(4, 5)\n",
        "print('\\nrandom tensor:')\n",
        "print(d)"
      ]
    },
    {
      "cell_type": "markdown",
      "metadata": {
        "id": "y9QuvWYxMsoK"
      },
      "source": [
        "**Your turn**: In the file `pytorch101.py`, complete the implementation of `create_tensor_of_pi` to practice using a tensor constructor.\n",
        "\n",
        "Hint: [`torch.full`](https://pytorch.org/docs/stable/generated/torch.full.html#torch.full)"
      ]
    },
    {
      "cell_type": "code",
      "source": [
        "def create_tensor_of_pi(M: int, N: int) -> Tensor:\n",
        "    x = None\n",
        "    x = torch.full((M,N),3.14)\n",
        "    return x"
      ],
      "metadata": {
        "id": "mnhY0yTkBHuO"
      },
      "execution_count": 23,
      "outputs": []
    },
    {
      "cell_type": "code",
      "execution_count": 24,
      "metadata": {
        "id": "N_y7Z5I0NIaA",
        "colab": {
          "base_uri": "https://localhost:8080/"
        },
        "outputId": "5bddd178-9f64-4f33-d126-05c178b58061"
      },
      "outputs": [
        {
          "output_type": "stream",
          "name": "stdout",
          "text": [
            "x is a tensor: True\n",
            "x has correct shape:  True\n",
            "x is filled with pi:  True\n"
          ]
        }
      ],
      "source": [
        "x = create_tensor_of_pi(4, 5)\n",
        "\n",
        "print('x is a tensor:', torch.is_tensor(x))\n",
        "print('x has correct shape: ', x.shape == (4, 5))\n",
        "print('x is filled with pi: ', (x == 3.14).all().item() == 1)"
      ]
    },
    {
      "cell_type": "markdown",
      "metadata": {
        "id": "Rz_hiJD33fu1"
      },
      "source": [
        "### Datatypes"
      ]
    },
    {
      "cell_type": "markdown",
      "metadata": {
        "id": "GG1xBunZ3ixx"
      },
      "source": [
        "In the examples above, you may have noticed that some of our tensors contained floating-point values, while others contained integer values.\n",
        "\n",
        "PyTorch provides a [large set of numeric datatypes](https://pytorch.org/docs/stable/tensor_attributes.html#torch.torch.dtype) that you can use to construct tensors. PyTorch tries to guess a datatype when you create a tensor; functions that construct tensors typically have a `dtype` argument that you can use to explicitly specify a datatype.\n",
        "\n",
        "Each tensor has a `dtype` attribute that you can use to check its data type:"
      ]
    },
    {
      "cell_type": "code",
      "execution_count": 25,
      "metadata": {
        "id": "vREVDf_n31Qz",
        "colab": {
          "base_uri": "https://localhost:8080/"
        },
        "outputId": "d94efffb-c299-4603-beda-69e1d8a82015"
      },
      "outputs": [
        {
          "output_type": "stream",
          "name": "stdout",
          "text": [
            "dtype when torch chooses for us:\n",
            "List of integers: torch.int64\n",
            "List of floats: torch.float32\n",
            "Mixed list: torch.float32\n",
            "\n",
            "dtype when we force a datatype:\n",
            "32-bit float:  torch.float32\n",
            "32-bit integer:  torch.int32\n",
            "64-bit integer:  torch.int64\n",
            "\n",
            "torch.ones with different dtypes\n",
            "default dtype: torch.float32\n",
            "16-bit integer: torch.int16\n",
            "8-bit unsigned integer: torch.uint8\n"
          ]
        }
      ],
      "source": [
        "# Let torch choose the datatype\n",
        "x0 = torch.tensor([1, 2])   # List of integers\n",
        "x1 = torch.tensor([1., 2.]) # List of floats\n",
        "x2 = torch.tensor([1., 2])  # Mixed list\n",
        "print('dtype when torch chooses for us:')\n",
        "print('List of integers:', x0.dtype)\n",
        "print('List of floats:', x1.dtype)\n",
        "print('Mixed list:', x2.dtype)\n",
        "\n",
        "# Force a particular datatype\n",
        "y0 = torch.tensor([1, 2], dtype=torch.float32)  # 32-bit float\n",
        "y1 = torch.tensor([1, 2], dtype=torch.int32)    # 32-bit (signed) integer\n",
        "y2 = torch.tensor([1, 2], dtype=torch.int64)    # 64-bit (signed) integer\n",
        "print('\\ndtype when we force a datatype:')\n",
        "print('32-bit float: ', y0.dtype)\n",
        "print('32-bit integer: ', y1.dtype)\n",
        "print('64-bit integer: ', y2.dtype)\n",
        "\n",
        "# Other creation ops also take a dtype argument\n",
        "z0 = torch.ones(1, 2)  # Let torch choose for us\n",
        "z1 = torch.ones(1, 2, dtype=torch.int16) # 16-bit (signed) integer\n",
        "z2 = torch.ones(1, 2, dtype=torch.uint8) # 8-bit (unsigned) integer\n",
        "print('\\ntorch.ones with different dtypes')\n",
        "print('default dtype:', z0.dtype)\n",
        "print('16-bit integer:', z1.dtype)\n",
        "print('8-bit unsigned integer:', z2.dtype)"
      ]
    },
    {
      "cell_type": "markdown",
      "metadata": {
        "id": "W2reBgQmx_x4"
      },
      "source": [
        "We can **cast** a tensor to another datatype using the [`.to()`](https://pytorch.org/docs/stable/generated/torch.Tensor.to.html) method; there are also convenience methods like [`.float()`](https://pytorch.org/docs/stable/generated/torch.Tensor.float.html) and [`.long()`](https://pytorch.org/docs/stable/generated/torch.Tensor.long.html) that cast to particular datatypes:\n"
      ]
    },
    {
      "cell_type": "code",
      "execution_count": 26,
      "metadata": {
        "id": "sAMpwGsdyHAw",
        "colab": {
          "base_uri": "https://localhost:8080/"
        },
        "outputId": "007e1010-085a-4399-eab3-a9266b7dfdb7"
      },
      "outputs": [
        {
          "output_type": "stream",
          "name": "stdout",
          "text": [
            "x0: torch.int64\n",
            "x1: torch.float32\n",
            "x2: torch.float64\n",
            "x3: torch.float32\n",
            "x4: torch.float64\n"
          ]
        }
      ],
      "source": [
        "x0 = torch.eye(3, dtype=torch.int64)\n",
        "x1 = x0.float()  # Cast to 32-bit float\n",
        "x2 = x0.double() # Cast to 64-bit float\n",
        "x3 = x0.to(torch.float32) # Alternate way to cast to 32-bit float\n",
        "x4 = x0.to(torch.float64) # Alternate way to cast to 64-bit float\n",
        "print('x0:', x0.dtype)\n",
        "print('x1:', x1.dtype)\n",
        "print('x2:', x2.dtype)\n",
        "print('x3:', x3.dtype)\n",
        "print('x4:', x4.dtype)"
      ]
    },
    {
      "cell_type": "markdown",
      "metadata": {
        "id": "k2O8Atl1wMB7"
      },
      "source": [
        "PyTorch provides several ways to create a tensor with the same datatype as another tensor:\n",
        "\n",
        "- PyTorch provides tensor constructors such as [`torch.zeros_like()`](https://pytorch.org/docs/stable/generated/torch.zeros_like.html) that create new tensors with the same shape and type as a given tensor\n",
        "- Tensor objects have instance methods such as [`.new_zeros()`](https://pytorch.org/docs/stable/generated/torch.Tensor.new_zeros.html) that create tensors the same type but possibly different shapes\n",
        "- The tensor instance method [`.to()`](https://pytorch.org/docs/stable/generated/torch.Tensor.to.html) can take a tensor as an argument, in which case it casts to the datatype of the argument."
      ]
    },
    {
      "cell_type": "code",
      "execution_count": 27,
      "metadata": {
        "id": "1APDsx54xV6p",
        "colab": {
          "base_uri": "https://localhost:8080/"
        },
        "outputId": "d3cb1341-c3fa-47cd-8a09-a352a129749b"
      },
      "outputs": [
        {
          "output_type": "stream",
          "name": "stdout",
          "text": [
            "x0 shape is torch.Size([3, 3]), dtype is torch.float64\n",
            "x1 shape is torch.Size([3, 3]), dtype is torch.float64\n",
            "x2 shape is torch.Size([4, 5]), dtype is torch.float64\n",
            "x3 shape is torch.Size([6, 7]), dtype is torch.float64\n"
          ]
        }
      ],
      "source": [
        "x0 = torch.eye(3, dtype=torch.float64)  # Shape (3, 3), dtype torch.float64\n",
        "x1 = torch.zeros_like(x0)               # Shape (3, 3), dtype torch.float64\n",
        "x2 = x0.new_zeros(4, 5)                 # Shape (4, 5), dtype torch.float64\n",
        "x3 = torch.ones(6, 7).to(x0)            # Shape (6, 7), dtype torch.float64)\n",
        "print('x0 shape is %r, dtype is %r' % (x0.shape, x0.dtype))\n",
        "print('x1 shape is %r, dtype is %r' % (x1.shape, x1.dtype))\n",
        "print('x2 shape is %r, dtype is %r' % (x2.shape, x2.dtype))\n",
        "print('x3 shape is %r, dtype is %r' % (x3.shape, x3.dtype))"
      ]
    },
    {
      "cell_type": "markdown",
      "metadata": {
        "id": "OPuGPa0v4h_2"
      },
      "source": [
        "**Your turn**: In the file `pytorch101.py`, implement the function `multiples_of_ten` which should create and return a tensor of dtype `torch.float64` containing all the multiples of ten in a given range.\n",
        "\n",
        "Hint: [`torch.arange`](https://pytorch.org/docs/stable/generated/torch.arange.html)"
      ]
    },
    {
      "cell_type": "code",
      "source": [
        "def multiples_of_ten(start: int, stop: int) -> Tensor:\n",
        "    assert start <= stop #start는 stop보다 작거나 같아야함\n",
        "    x = None\n",
        "    first_multiple = ((start + 9) // 10) * 10 #start보다 크거나 같은 가장 가까운 10의 배수 구함\n",
        "    # // 몫, / 나머지\n",
        "    if first_multiple > stop: #10의 배수가 하나도 없음\n",
        "        x = torch.empty((0,), dtype=torch.float64)\n",
        "    else: #10의 배수 존재\n",
        "        x = torch.arange(first_multiple, stop + 1, 10, dtype=torch.float64)\n",
        "    return x"
      ],
      "metadata": {
        "id": "2icMcI9KmTV8"
      },
      "execution_count": 28,
      "outputs": []
    },
    {
      "cell_type": "code",
      "execution_count": 29,
      "metadata": {
        "id": "Qddo6C5Bgwcr",
        "colab": {
          "base_uri": "https://localhost:8080/"
        },
        "outputId": "ffb020bc-0c60-45a8-9e63-91de5c6a746a"
      },
      "outputs": [
        {
          "output_type": "stream",
          "name": "stdout",
          "text": [
            "Correct dtype:  True\n",
            "Correct shape:  True\n",
            "Correct values:  True\n",
            "\n",
            "Correct dtype:  True\n",
            "Correct shape:  True\n"
          ]
        }
      ],
      "source": [
        "start = 5\n",
        "stop = 25\n",
        "x = multiples_of_ten(start, stop)\n",
        "print('Correct dtype: ', x.dtype == torch.float64)\n",
        "print('Correct shape: ', x.shape == (2,))\n",
        "print('Correct values: ', x.tolist() == [10, 20])\n",
        "\n",
        "# If there are no multiples of ten in the given range you should return an empty tensor\n",
        "start = 5\n",
        "stop = 7\n",
        "x = multiples_of_ten(start, stop)\n",
        "print('\\nCorrect dtype: ', x.dtype == torch.float64)\n",
        "print('Correct shape: ', x.shape == (0,))"
      ]
    },
    {
      "cell_type": "markdown",
      "metadata": {
        "id": "RwJL3HVySvXn"
      },
      "source": [
        "Even though PyTorch provides a large number of numeric datatypes, the most commonly used datatypes are:\n",
        "\n",
        "- `torch.float32`: Standard floating-point type; used to store learnable parameters, network activations, etc. Nearly all arithmetic is done using this type.\n",
        "- `torch.int64`: Typically used to store indices\n",
        "- `torch.bool`: Stores boolean values: 0 is false and 1 is true\n",
        "- `torch.float16`: Used for mixed-precision arithmetic, usually on NVIDIA GPUs with [tensor cores](https://www.nvidia.com/en-us/data-center/tensorcore/). You won't need to worry about this datatype in this course."
      ]
    },
    {
      "cell_type": "markdown",
      "metadata": {
        "id": "rlANfnILvX3S"
      },
      "source": [
        "## Tensor indexing"
      ]
    },
    {
      "cell_type": "markdown",
      "metadata": {
        "id": "KP4dRrHhyLO5"
      },
      "source": [
        "We have already seen how to get and set individual elements of PyTorch tensors. PyTorch also provides many other ways of indexing into tensors. Getting comfortable with these different options makes it easy to modify different parts of tensors with ease."
      ]
    },
    {
      "cell_type": "markdown",
      "metadata": {
        "id": "mo-PoTWNvbba"
      },
      "source": [
        "### Slice indexing"
      ]
    },
    {
      "cell_type": "markdown",
      "metadata": {
        "id": "qUqTYvglyVLc"
      },
      "source": [
        "Similar to Python lists and numpy arrays, PyTorch tensors can be **sliced** using the syntax `start:stop` or `start:stop:step`. The `stop` index is always non-inclusive: it is the first element not to be included in the slice.\n",
        "\n",
        "Start and stop indices can be negative, in which case they count backward from the end of the tensor."
      ]
    },
    {
      "cell_type": "code",
      "execution_count": 30,
      "metadata": {
        "id": "yEr5BzdUdCtZ",
        "colab": {
          "base_uri": "https://localhost:8080/"
        },
        "outputId": "e0417010-c5c2-49cf-9ff8-8f96b932e95e"
      },
      "outputs": [
        {
          "output_type": "stream",
          "name": "stdout",
          "text": [
            "0 tensor([ 0, 11, 22, 33, 44, 55, 66])\n",
            "1 tensor([22, 33, 44])\n",
            "2 tensor([22, 33, 44, 55, 66])\n",
            "3 tensor([ 0, 11, 22, 33, 44])\n",
            "4 tensor([ 0, 11, 22, 33, 44, 55, 66])\n",
            "5 tensor([11, 33])\n",
            "6 tensor([ 0, 11, 22, 33, 44, 55])\n",
            "7 tensor([33, 55])\n"
          ]
        }
      ],
      "source": [
        "a = torch.tensor([0, 11, 22, 33, 44, 55, 66])\n",
        "print(0, a)        # (0) Original tensor\n",
        "print(1, a[2:5])   # (1) Elements between index 2 and 5\n",
        "print(2, a[2:])    # (2) Elements after index 2\n",
        "print(3, a[:5])    # (3) Elements before index 5\n",
        "print(4, a[:])     # (4) All elements\n",
        "print(5, a[1:5:2]) # (5) Every second element between indices 1 and 5\n",
        "print(6, a[:-1])   # (6) All but the last element\n",
        "print(7, a[-4::2]) # (7) Every second element, starting from the fourth-last"
      ]
    },
    {
      "cell_type": "markdown",
      "metadata": {
        "id": "yrcr9PojgTS1"
      },
      "source": [
        "For multidimensional tensors, you can provide a slice or integer for each dimension of the tensor in order to extract different types of subtensors:"
      ]
    },
    {
      "cell_type": "code",
      "execution_count": 31,
      "metadata": {
        "id": "S5fOdjTUyhNf",
        "colab": {
          "base_uri": "https://localhost:8080/"
        },
        "outputId": "138007c1-d562-4ae0-bdf8-27032244daa0"
      },
      "outputs": [
        {
          "output_type": "stream",
          "name": "stdout",
          "text": [
            "Original tensor:\n",
            "tensor([[ 1,  2,  3,  4],\n",
            "        [ 5,  6,  7,  8],\n",
            "        [ 9, 10, 11, 12]])\n",
            "shape:  torch.Size([3, 4])\n",
            "\n",
            "Single row:\n",
            "tensor([5, 6, 7, 8])\n",
            "tensor([5, 6, 7, 8])\n",
            "shape:  torch.Size([4])\n",
            "\n",
            "Single column:\n",
            "tensor([ 2,  6, 10])\n",
            "shape:  torch.Size([3])\n",
            "\n",
            "First two rows, last two columns:\n",
            "tensor([[2, 3, 4],\n",
            "        [6, 7, 8]])\n",
            "shape:  torch.Size([2, 3])\n",
            "\n",
            "Every other row, middle columns:\n",
            "tensor([[ 2,  3],\n",
            "        [10, 11]])\n",
            "shape:  torch.Size([2, 2])\n"
          ]
        }
      ],
      "source": [
        "# Create the following rank 2 tensor with shape (3, 4)\n",
        "# [[ 1  2  3  4]\n",
        "#  [ 5  6  7  8]\n",
        "#  [ 9 10 11 12]]\n",
        "a = torch.tensor([[1,2,3,4], [5,6,7,8], [9,10,11,12]])\n",
        "print('Original tensor:')\n",
        "print(a)\n",
        "print('shape: ', a.shape)\n",
        "\n",
        "# Get row 1, and all columns.\n",
        "print('\\nSingle row:')\n",
        "print(a[1, :])\n",
        "print(a[1])  # Gives the same result; we can omit : for trailing dimensions\n",
        "print('shape: ', a[1].shape)\n",
        "\n",
        "print('\\nSingle column:')\n",
        "print(a[:, 1])\n",
        "print('shape: ', a[:, 1].shape)\n",
        "\n",
        "# Get the first two rows and the last three columns\n",
        "print('\\nFirst two rows, last two columns:')\n",
        "print(a[:2, -3:])\n",
        "print('shape: ', a[:2, -3:].shape)\n",
        "\n",
        "# Get every other row, and columns at index 1 and 2\n",
        "print('\\nEvery other row, middle columns:')\n",
        "print(a[::2, 1:3])\n",
        "print('shape: ', a[::2, 1:3].shape)"
      ]
    },
    {
      "cell_type": "markdown",
      "metadata": {
        "id": "gOsR8Pdertku"
      },
      "source": [
        "There are two common ways to access a single row or column of a tensor: using an integer will reduce the rank by one, and using a length-one slice will keep the same rank. Note that this is different behavior from MATLAB."
      ]
    },
    {
      "cell_type": "code",
      "execution_count": 32,
      "metadata": {
        "id": "P1kHcc5jsF-c",
        "colab": {
          "base_uri": "https://localhost:8080/"
        },
        "outputId": "d7052159-8460-4776-da17-d9f64361ac2c"
      },
      "outputs": [
        {
          "output_type": "stream",
          "name": "stdout",
          "text": [
            "Original tensor\n",
            "tensor([[ 1,  2,  3,  4],\n",
            "        [ 5,  6,  7,  8],\n",
            "        [ 9, 10, 11, 12]])\n",
            "\n",
            "Two ways of accessing a single row:\n",
            "tensor([5, 6, 7, 8]) torch.Size([4])\n",
            "tensor([[5, 6, 7, 8]]) torch.Size([1, 4])\n",
            "\n",
            "Two ways of accessing a single column:\n",
            "tensor([ 2,  6, 10]) torch.Size([3])\n",
            "tensor([[ 2],\n",
            "        [ 6],\n",
            "        [10]]) torch.Size([3, 1])\n"
          ]
        }
      ],
      "source": [
        "# Create the following rank 2 tensor with shape (3, 4)\n",
        "a = torch.tensor([[1,2,3,4], [5,6,7,8], [9,10,11,12]])\n",
        "print('Original tensor')\n",
        "print(a)\n",
        "\n",
        "row_r1 = a[1, :]    # Rank 1 view of the second row of a\n",
        "row_r2 = a[1:2, :]  # Rank 2 view of the second row of a\n",
        "print('\\nTwo ways of accessing a single row:')\n",
        "print(row_r1, row_r1.shape)\n",
        "print(row_r2, row_r2.shape)\n",
        "\n",
        "# We can make the same distinction when accessing columns:\n",
        "col_r1 = a[:, 1]\n",
        "col_r2 = a[:, 1:2]\n",
        "print('\\nTwo ways of accessing a single column:')\n",
        "print(col_r1, col_r1.shape)\n",
        "print(col_r2, col_r2.shape)"
      ]
    },
    {
      "cell_type": "markdown",
      "metadata": {
        "id": "Jk625fJfyxV8"
      },
      "source": [
        "Slicing a tensor returns a **view** into the same data, so modifying it will also modify the original tensor. To avoid this, you can use the `clone()` method to make a copy of a tensor."
      ]
    },
    {
      "cell_type": "code",
      "execution_count": 33,
      "metadata": {
        "id": "IXbikYPwyxGA",
        "colab": {
          "base_uri": "https://localhost:8080/"
        },
        "outputId": "75fba00b-e8a2-409e-8db8-de57312f12d3"
      },
      "outputs": [
        {
          "output_type": "stream",
          "name": "stdout",
          "text": [
            "Before mutating:\n",
            "tensor([[1, 2, 3, 4],\n",
            "        [5, 6, 7, 8]])\n",
            "tensor([2, 3, 4])\n",
            "tensor([2, 3, 4])\n",
            "\n",
            "After mutating:\n",
            "tensor([[ 1, 20, 30,  4],\n",
            "        [ 5,  6,  7,  8]])\n",
            "tensor([20, 30,  4])\n",
            "tensor([ 2,  3, 40])\n",
            "False\n"
          ]
        },
        {
          "output_type": "stream",
          "name": "stderr",
          "text": [
            "/tmp/ipython-input-3860217186.py:18: UserWarning: TypedStorage is deprecated. It will be removed in the future and UntypedStorage will be the only storage class. This should only matter to you if you are using storages directly.  To access UntypedStorage directly, use tensor.untyped_storage() instead of tensor.storage()\n",
            "  print(a.storage().data_ptr() == c.storage().data_ptr())\n"
          ]
        }
      ],
      "source": [
        "# Create a tensor, a slice, and a clone of a slice\n",
        "a = torch.tensor([[1, 2, 3, 4], [5, 6, 7, 8]])\n",
        "b = a[0, 1:]\n",
        "c = a[0, 1:].clone()\n",
        "print('Before mutating:')\n",
        "print(a)\n",
        "print(b)\n",
        "print(c)\n",
        "\n",
        "a[0, 1] = 20  # a[0, 1] and b[0] point to the same element\n",
        "b[1] = 30     # b[1] and a[0, 2] point to the same element\n",
        "c[2] = 40     # c is a clone, so it has its own data\n",
        "print('\\nAfter mutating:')\n",
        "print(a)\n",
        "print(b)\n",
        "print(c)\n",
        "\n",
        "print(a.storage().data_ptr() == c.storage().data_ptr())"
      ]
    },
    {
      "cell_type": "markdown",
      "metadata": {
        "id": "5t5omyKwm9dB"
      },
      "source": [
        "**Your turn**: In the file `pytorch101.py`, implement the function `slice_indexing_practice` to practice indexing tensors with different types of slices."
      ]
    },
    {
      "cell_type": "code",
      "source": [
        "def slice_indexing_practice(x: Tensor) -> Tuple[Tensor, Tensor, Tensor, Tensor]:\n",
        "    assert x.shape[0] >= 3\n",
        "    assert x.shape[1] >= 5\n",
        "    last_row = None\n",
        "    third_col = None\n",
        "    first_two_rows_three_cols = None\n",
        "    even_rows_odd_cols = None\n",
        "\n",
        "    last_row = x[-1,]\n",
        "    third_col  = x[:,2:3]\n",
        "    first_two_rows_three_cols = x[:2,:3]\n",
        "    even_rows_odd_cols = x[::2,1::2]\n",
        "\n",
        "    out = (\n",
        "        last_row,\n",
        "        third_col,\n",
        "        first_two_rows_three_cols,\n",
        "        even_rows_odd_cols,\n",
        "    )\n",
        "    return out"
      ],
      "metadata": {
        "id": "3SQr8nGyvRnx"
      },
      "execution_count": 34,
      "outputs": []
    },
    {
      "cell_type": "code",
      "execution_count": 35,
      "metadata": {
        "id": "yKq2mswvqMmw"
      },
      "outputs": [],
      "source": [
        "# We will use this helper function to check your results\n",
        "def check(orig, actual, expected):\n",
        "    if not torch.is_tensor(actual):\n",
        "        return False\n",
        "    expected = torch.tensor(expected)\n",
        "    same_elements = (actual == expected).all().item()\n",
        "    same_storage = (orig.storage().data_ptr() == actual.storage().data_ptr())\n",
        "    return same_elements and same_storage"
      ]
    },
    {
      "cell_type": "code",
      "execution_count": 36,
      "metadata": {
        "id": "5-5UtVXPVTQL",
        "colab": {
          "base_uri": "https://localhost:8080/"
        },
        "outputId": "a1659df5-19be-4ea8-e407-fe4e6f0f7ed0"
      },
      "outputs": [
        {
          "output_type": "stream",
          "name": "stdout",
          "text": [
            "last_row:\n",
            "tensor([11, 12, 13, 14, 15])\n",
            "Correct: True\n",
            "\n",
            "third_col:\n",
            "tensor([[ 3],\n",
            "        [ 8],\n",
            "        [13]])\n",
            "Correct: True\n",
            "\n",
            "first_two_rows_three_cols:\n",
            "tensor([[1, 2, 3],\n",
            "        [6, 7, 8]])\n",
            "Correct: True\n",
            "\n",
            "even_rows_odd_cols:\n",
            "tensor([[ 2,  4],\n",
            "        [12, 14]])\n",
            "Correct: True\n",
            "\n"
          ]
        }
      ],
      "source": [
        "# Create the following rank 2 tensor of shape (3, 5)\n",
        "# [[ 1  2  3  4  5]\n",
        "#  [ 6  7  8  9 10]\n",
        "#  [11 12 13 14 15]]\n",
        "x = torch.tensor([[1, 2, 3, 4, 5], [6, 7, 8, 8, 10], [11, 12, 13, 14, 15]])\n",
        "out = slice_indexing_practice(x)\n",
        "\n",
        "last_row = out[0]\n",
        "print('last_row:')\n",
        "print(last_row)\n",
        "correct = check(x, last_row, [11, 12, 13, 14, 15])\n",
        "print('Correct: %r\\n' % correct)\n",
        "\n",
        "third_col = out[1]\n",
        "print('third_col:')\n",
        "print(third_col)\n",
        "correct = check(x, third_col, [[3], [8], [13]])\n",
        "print('Correct: %r\\n' % correct)\n",
        "\n",
        "first_two_rows_three_cols = out[2]\n",
        "print('first_two_rows_three_cols:')\n",
        "print(first_two_rows_three_cols)\n",
        "correct = check(x, first_two_rows_three_cols, [[1, 2, 3], [6, 7, 8]])\n",
        "print('Correct: %r\\n' % correct)\n",
        "\n",
        "even_rows_odd_cols = out[3]\n",
        "print('even_rows_odd_cols:')\n",
        "print(even_rows_odd_cols)\n",
        "correct = check(x, even_rows_odd_cols, [[2, 4], [12, 14]])\n",
        "print('Correct: %r\\n' % correct)"
      ]
    },
    {
      "cell_type": "markdown",
      "metadata": {
        "id": "RNjhLwb0xY2A"
      },
      "source": [
        "So far we have used slicing to **access** subtensors; we can also use slicing to **modify** subtensors by writing assignment expressions where the left-hand side is a slice expression, and the right-hand side is a constant or a tensor of the correct shape:"
      ]
    },
    {
      "cell_type": "code",
      "execution_count": 37,
      "metadata": {
        "id": "DFnky42Rx2I5",
        "colab": {
          "base_uri": "https://localhost:8080/"
        },
        "outputId": "efb267ab-b3b7-408f-e5ef-7d2fba115475"
      },
      "outputs": [
        {
          "output_type": "stream",
          "name": "stdout",
          "text": [
            "tensor([[1, 1, 2, 3],\n",
            "        [1, 1, 4, 5]])\n"
          ]
        }
      ],
      "source": [
        "a = torch.zeros(2, 4, dtype=torch.int64)\n",
        "a[:, :2] = 1\n",
        "a[:, 2:] = torch.tensor([[2, 3], [4, 5]])\n",
        "print(a)"
      ]
    },
    {
      "cell_type": "markdown",
      "metadata": {
        "id": "HPVCQ5HszihV"
      },
      "source": [
        "**Your turn**: in the file `pytorch101.py`, implement the function `slice_assignment_practice` to practice modifying tensors with slicing assignment statements.\n",
        "\n",
        "This function should use slicing assignment operations to modify the first four rows and first six columns of the input tensor so they are equal to\n",
        "\n",
        "$$\n",
        "\\begin{bmatrix}\n",
        "0 & 1 & 2 & 2 & 2 & 2 \\\\\n",
        "0 & 1 & 2 & 2 & 2 & 2 \\\\\n",
        "3 & 4 & 3 & 4 & 5 & 5 \\\\\n",
        "3 & 4 & 3 & 4 & 5 & 5 \\\\\n",
        "\\end{bmatrix}\n",
        "$$\n",
        "\n",
        "Your implementation must obey the following:\n",
        "- You should mutate the tensor x in-place and return it\n",
        "- You should only modify the first 4 rows and first 6 columns; all other\n",
        "elements should remain unchanged\n",
        "- You may only mutate the tensor using slice assignment operations, where you\n",
        "assign an integer to a slice of the tensor\n",
        "- You must use <= 6 slicing operations to achieve the desired result"
      ]
    },
    {
      "cell_type": "code",
      "source": [
        "#def slice_assignment_practice(x: Tensor) -> Tensor:\n",
        " #   a = torch.tensor([[0,1,2,2,2,2],[0,1,2,2,2,2],[3,4,3,4,5,5],[3,4,3,4,5,5]])\n",
        "  #  x[:4,:6] = a\n",
        "   # return x"
      ],
      "metadata": {
        "id": "GDBLFCggzoYF"
      },
      "execution_count": 38,
      "outputs": []
    },
    {
      "cell_type": "code",
      "source": [
        "def slice_assignment_practice(x: Tensor) -> Tensor:\n",
        "    x[:2,0] = 0\n",
        "    x[:2,1] = 1\n",
        "    x[:2,2:6] = 2\n",
        "    x[2:4,0] = 3\n",
        "    x[2:4,1] = 4\n",
        "    x[2:4,2] = 3\n",
        "    x[2:4,3] = 4\n",
        "    x[2:4,4:6] = 5\n",
        "    return x"
      ],
      "metadata": {
        "id": "7IwFxoVW0qNE"
      },
      "execution_count": 39,
      "outputs": []
    },
    {
      "cell_type": "code",
      "execution_count": 40,
      "metadata": {
        "id": "FzXlnFqAVTQQ",
        "colab": {
          "base_uri": "https://localhost:8080/"
        },
        "outputId": "7a57d1e3-2631-48d3-a7bf-3e15885c1aac"
      },
      "outputs": [
        {
          "output_type": "stream",
          "name": "stdout",
          "text": [
            "Here is x before calling slice_assignment_practice:\n",
            "tensor([[0, 0, 0, 0, 0, 0, 0],\n",
            "        [0, 0, 0, 0, 0, 0, 0],\n",
            "        [0, 0, 0, 0, 0, 0, 0],\n",
            "        [0, 0, 0, 0, 0, 0, 0],\n",
            "        [0, 0, 0, 0, 0, 0, 0]])\n",
            "Here is x after calling slice assignment practice:\n",
            "tensor([[0, 1, 2, 2, 2, 2, 0],\n",
            "        [0, 1, 2, 2, 2, 2, 0],\n",
            "        [3, 4, 3, 4, 5, 5, 0],\n",
            "        [3, 4, 3, 4, 5, 5, 0],\n",
            "        [0, 0, 0, 0, 0, 0, 0]])\n",
            "Correct:  True\n"
          ]
        }
      ],
      "source": [
        "# note: this \"x\" has one extra row, intentionally\n",
        "x = torch.zeros(5, 7, dtype=torch.int64)\n",
        "print('Here is x before calling slice_assignment_practice:')\n",
        "print(x)\n",
        "slice_assignment_practice(x)\n",
        "print('Here is x after calling slice assignment practice:')\n",
        "print(x)\n",
        "\n",
        "expected = [\n",
        "    [0, 1, 2, 2, 2, 2, 0],\n",
        "    [0, 1, 2, 2, 2, 2, 0],\n",
        "    [3, 4, 3, 4, 5, 5, 0],\n",
        "    [3, 4, 3, 4, 5, 5, 0],\n",
        "    [0, 0, 0, 0, 0, 0, 0],\n",
        "]\n",
        "print('Correct: ', x.tolist() == expected)"
      ]
    },
    {
      "cell_type": "markdown",
      "metadata": {
        "id": "4y93rPhGveWw"
      },
      "source": [
        "### Integer tensor indexing"
      ]
    },
    {
      "cell_type": "markdown",
      "metadata": {
        "id": "GlTyhjEN0AIE"
      },
      "source": [
        "When you index into torch tensor using slicing, the resulting tensor view will always be a subarray of the original tensor. This is powerful, but can be restrictive.\n",
        "\n",
        "We can also use **index arrays** to index tensors; this lets us construct new tensors with a lot more flexibility than using slices.\n",
        "\n",
        "As an example, we can use index arrays to reorder the rows or columns of a tensor:"
      ]
    },
    {
      "cell_type": "code",
      "execution_count": 41,
      "metadata": {
        "id": "IXePPNkjM_SD",
        "colab": {
          "base_uri": "https://localhost:8080/"
        },
        "outputId": "9bab1d09-cfdd-4f0e-abd2-180532324ee5"
      },
      "outputs": [
        {
          "output_type": "stream",
          "name": "stdout",
          "text": [
            "Original tensor:\n",
            "tensor([[ 1,  2,  3,  4],\n",
            "        [ 5,  6,  7,  8],\n",
            "        [ 9, 10, 11, 12]])\n",
            "\n",
            "Reordered rows:\n",
            "tensor([[ 1,  2,  3,  4],\n",
            "        [ 1,  2,  3,  4],\n",
            "        [ 9, 10, 11, 12],\n",
            "        [ 5,  6,  7,  8],\n",
            "        [ 5,  6,  7,  8]])\n",
            "\n",
            "Reordered columns:\n",
            "tensor([[ 4,  3,  2,  1],\n",
            "        [ 8,  7,  6,  5],\n",
            "        [12, 11, 10,  9]])\n"
          ]
        }
      ],
      "source": [
        "# Create the following rank 2 tensor with shape (3, 4)\n",
        "# [[ 1  2  3  4]\n",
        "#  [ 5  6  7  8]\n",
        "#  [ 9 10 11 12]]\n",
        "a = torch.tensor([[1, 2, 3, 4], [5, 6, 7, 8], [9, 10, 11, 12]])\n",
        "print('Original tensor:')\n",
        "print(a)\n",
        "\n",
        "# Create a new tensor of shape (5, 4) by reordering rows from a:\n",
        "# - First two rows same as the first row of a\n",
        "# - Third row is the same as the last row of a\n",
        "# - Fourth and fifth rows are the same as the second row from a\n",
        "idx = [0, 0, 2, 1, 1]  # index arrays can be Python lists of integers\n",
        "print('\\nReordered rows:')\n",
        "print(a[idx])\n",
        "\n",
        "# Create a new tensor of shape (3, 4) by reversing the columns from a\n",
        "idx = torch.tensor([3, 2, 1, 0])  # Index arrays can be int64 torch tensors\n",
        "print('\\nReordered columns:')\n",
        "print(a[:, idx])"
      ]
    },
    {
      "cell_type": "markdown",
      "metadata": {
        "id": "CpIBR1bCQji6"
      },
      "source": [
        "More generally, given index arrays `idx0` and `idx1` with `N` elements each, `a[idx0, idx1]` is equivalent to:\n",
        "\n",
        "```\n",
        "torch.tensor([\n",
        "  a[idx0[0], idx1[0]],\n",
        "  a[idx0[1], idx1[1]],\n",
        "  ...,\n",
        "  a[idx0[N - 1], idx1[N - 1]]\n",
        "])\n",
        "```\n",
        "\n",
        "(A similar pattern extends to tensors with more than two dimensions)\n",
        "\n",
        "We can for example use this to get or set the diagonal of a tensor:"
      ]
    },
    {
      "cell_type": "code",
      "execution_count": 42,
      "metadata": {
        "id": "ocIR8R5ZSEaP",
        "colab": {
          "base_uri": "https://localhost:8080/"
        },
        "outputId": "62a3062f-2eba-4897-d306-d8f17d3c3618"
      },
      "outputs": [
        {
          "output_type": "stream",
          "name": "stdout",
          "text": [
            "Original tensor:\n",
            "tensor([[1, 2, 3],\n",
            "        [4, 5, 6],\n",
            "        [7, 8, 9]])\n",
            "\n",
            "Get the diagonal:\n",
            "tensor([1, 5, 9])\n",
            "\n",
            "After setting the diagonal:\n",
            "tensor([[11,  2,  3],\n",
            "        [ 4, 22,  6],\n",
            "        [ 7,  8, 33]])\n"
          ]
        }
      ],
      "source": [
        "a = torch.tensor([[1, 2, 3], [4, 5, 6], [7, 8, 9]])\n",
        "print('Original tensor:')\n",
        "print(a)\n",
        "\n",
        "idx = [0, 1, 2]\n",
        "print('\\nGet the diagonal:')\n",
        "print(a[idx, idx])\n",
        "\n",
        "# Modify the diagonal\n",
        "a[idx, idx] = torch.tensor([11, 22, 33])\n",
        "print('\\nAfter setting the diagonal:')\n",
        "print(a)"
      ]
    },
    {
      "cell_type": "markdown",
      "metadata": {
        "id": "O-cr-EqA0vfO"
      },
      "source": [
        "One useful trick with integer array indexing is selecting or mutating one element from each row or column of a matrix:"
      ]
    },
    {
      "cell_type": "code",
      "execution_count": 43,
      "metadata": {
        "id": "HWA8E8iI0x17",
        "colab": {
          "base_uri": "https://localhost:8080/"
        },
        "outputId": "66997a2f-e934-4e10-fc53-09daa4c94e0c"
      },
      "outputs": [
        {
          "output_type": "stream",
          "name": "stdout",
          "text": [
            "Original tensor:\n",
            "tensor([[ 1,  2,  3],\n",
            "        [ 4,  5,  6],\n",
            "        [ 7,  8,  9],\n",
            "        [10, 11, 12]])\n",
            "\n",
            "Select one element from each row:\n",
            "tensor([ 2,  6,  8, 10])\n",
            "\n",
            "After modifying one element from each row:\n",
            "tensor([[ 1,  0,  3],\n",
            "        [ 4,  5,  0],\n",
            "        [ 7,  0,  9],\n",
            "        [ 0, 11, 12]])\n"
          ]
        }
      ],
      "source": [
        "# Create a new tensor from which we will select elements\n",
        "a = torch.tensor([[1, 2, 3], [4, 5, 6], [7, 8, 9], [10, 11, 12]])\n",
        "print('Original tensor:')\n",
        "print(a)\n",
        "\n",
        "# Take on element from each row of a:\n",
        "# from row 0, take element 1;\n",
        "# from row 1, take element 2;\n",
        "# from row 2, take element 1;\n",
        "# from row 3, take element 0\n",
        "idx0 = torch.arange(a.shape[0])  # Quick way to build [0, 1, 2, 3]\n",
        "idx1 = torch.tensor([1, 2, 1, 0])\n",
        "print('\\nSelect one element from each row:')\n",
        "print(a[idx0, idx1])\n",
        "\n",
        "# Now set each of those elements to zero\n",
        "a[idx0, idx1] = 0\n",
        "print('\\nAfter modifying one element from each row:')\n",
        "print(a)"
      ]
    },
    {
      "cell_type": "markdown",
      "metadata": {
        "id": "s5_-WUmSVEoR"
      },
      "source": [
        "**Your turn**: in the file `pytorch101.py`, implement the functions `shuffle_cols`, `reverse_rows`, and `take_one_elem_per_col` to practice using integer indexing to manipulate tensors. In each of these functions, your implementation should construct the output tensor **using a single indexing operation on the input**."
      ]
    },
    {
      "cell_type": "code",
      "source": [
        "def shuffle_cols(x: Tensor) -> Tensor:\n",
        "    y = None\n",
        "    idx = [0,0,2,1]\n",
        "    y = x[:,idx]\n",
        "    return y"
      ],
      "metadata": {
        "id": "3jAZILYx4jMN"
      },
      "execution_count": 44,
      "outputs": []
    },
    {
      "cell_type": "code",
      "source": [
        "def reverse_rows(x: Tensor) -> Tensor:\n",
        "    y = None\n",
        "    idx = torch.arange(x.shape[0]-1, -1, -1)\n",
        "    y = x[idx,:]\n",
        "    return y"
      ],
      "metadata": {
        "id": "MTGjb-wB4l26"
      },
      "execution_count": 45,
      "outputs": []
    },
    {
      "cell_type": "code",
      "source": [
        "def take_one_elem_per_col(x: Tensor) -> Tensor:\n",
        "    y = None\n",
        "    idx0 = [1,0,3]\n",
        "    idx1 = [0,1,2]\n",
        "    y = x[idx0,idx1]\n",
        "    return y"
      ],
      "metadata": {
        "id": "6bysc25-4n8I"
      },
      "execution_count": 46,
      "outputs": []
    },
    {
      "cell_type": "code",
      "execution_count": 47,
      "metadata": {
        "id": "FX05_ov5VTQZ",
        "colab": {
          "base_uri": "https://localhost:8080/"
        },
        "outputId": "8fc6e874-e70f-4751-da3b-470c62dcbdee"
      },
      "outputs": [
        {
          "output_type": "stream",
          "name": "stdout",
          "text": [
            "Here is x:\n",
            "tensor([[ 1,  2,  3],\n",
            "        [ 4,  5,  6],\n",
            "        [ 7,  8,  9],\n",
            "        [10, 11, 12]])\n",
            "\n",
            "Here is shuffle_cols(x):\n",
            "tensor([[ 1,  1,  3,  2],\n",
            "        [ 4,  4,  6,  5],\n",
            "        [ 7,  7,  9,  8],\n",
            "        [10, 10, 12, 11]])\n",
            "Correct: True\n",
            "\n",
            "Here is reverse_rows(x):\n",
            "tensor([[10, 11, 12],\n",
            "        [ 7,  8,  9],\n",
            "        [ 4,  5,  6],\n",
            "        [ 1,  2,  3]])\n",
            "Correct: True\n",
            "\n",
            "Here is take_one_elem_per_col(x):\n",
            "tensor([ 4,  2, 12])\n",
            "Correct: True\n"
          ]
        }
      ],
      "source": [
        "# Build a tensor of shape (4, 3):\n",
        "# [[ 1,  2,  3],\n",
        "#  [ 4,  5,  6],\n",
        "#  [ 7,  8,  9],\n",
        "#  [10, 11, 12]]\n",
        "x = torch.tensor([[1, 2, 3], [4, 5, 6], [7, 8, 9], [10, 11, 12]])\n",
        "print('Here is x:')\n",
        "print(x)\n",
        "\n",
        "y1 = shuffle_cols(x)\n",
        "print('\\nHere is shuffle_cols(x):')\n",
        "print(y1)\n",
        "expected = [[1, 1, 3, 2], [4, 4, 6, 5], [7, 7, 9, 8], [10, 10, 12, 11]]\n",
        "y1_correct = torch.is_tensor(y1) and y1.tolist() == expected\n",
        "print('Correct: %r\\n' % y1_correct)\n",
        "\n",
        "y2 = reverse_rows(x)\n",
        "print('Here is reverse_rows(x):')\n",
        "print(y2)\n",
        "expected = [[10, 11, 12], [7, 8, 9], [4, 5, 6], [1, 2, 3]]\n",
        "y2_correct = torch.is_tensor(y2) and y2.tolist() == expected\n",
        "print('Correct: %r\\n' % y2_correct)\n",
        "\n",
        "y3 = take_one_elem_per_col(x)\n",
        "print('Here is take_one_elem_per_col(x):')\n",
        "print(y3)\n",
        "expected = [4, 2, 12]\n",
        "y3_correct = torch.is_tensor(y3) and y3.tolist() == expected\n",
        "print('Correct: %r' % y3_correct)"
      ]
    },
    {
      "cell_type": "markdown",
      "metadata": {
        "id": "Q68ZApgH31W9"
      },
      "source": [
        "Now implement the function `make_one_hot` that creates a matrix of **one-hot vectors** from a list of Python integers.\n",
        "\n",
        "A one-hot vector for an integer $n$ is a vector that has a one in its $n$th slot, and zeros in all other slots. One-hot vectors are commonly used to represent categorical variables in machine learning models.\n",
        "\n",
        "For example, given a list `[1, 4, 3, 2]` of integers, your function should produce the tensor:\n",
        "\n",
        "```\n",
        "[[0 1 0 0 0],\n",
        " [0 0 0 0 1],\n",
        " [0 0 0 1 0],\n",
        " [0 0 1 0 0]]\n",
        "```\n",
        "\n",
        "Here the first row corresponds to the first element of the list: it has a one at index 1, and zeros at all other indices. The second row corresponds to the second element of the list: it has a one at index 4, and zeros at all other indices. The other rows follow the same pattern. The output has just enough columns so that none of the rows go out-of-bounds: the largest index in the input is 4, so the output matrix has 5 columns."
      ]
    },
    {
      "cell_type": "code",
      "source": [
        "def make_one_hot(x: List[int]) -> Tensor:\n",
        "    y = None\n",
        "    x_tensor = torch.tensor(x)\n",
        "    N = x_tensor.shape[0]\n",
        "    C = x_tensor.max().item() + 1\n",
        "    # tensor에서 제일 큰 숫자 + 1 이 열의 개수 .item으로 Python 숫자로 바꿈\n",
        "    y = torch.zeros((N,C))\n",
        "    idx = torch.arange(N)\n",
        "    y[idx,x_tensor] = 1\n",
        "    return y"
      ],
      "metadata": {
        "id": "eRxdgJ23Auvx"
      },
      "execution_count": 48,
      "outputs": []
    },
    {
      "cell_type": "code",
      "execution_count": 49,
      "metadata": {
        "id": "jaT1kuQ37Rsq",
        "colab": {
          "base_uri": "https://localhost:8080/"
        },
        "outputId": "49cf8606-48dd-4232-d588-6204ea815680"
      },
      "outputs": [
        {
          "output_type": "stream",
          "name": "stdout",
          "text": [
            "Here is y0:\n",
            "tensor([[0., 1., 0., 0., 0.],\n",
            "        [0., 0., 0., 0., 1.],\n",
            "        [0., 0., 0., 1., 0.],\n",
            "        [0., 0., 1., 0., 0.]])\n",
            "y0 correct:  True\n",
            "\n",
            "Here is y1:\n",
            "tensor([[0., 1., 0., 0., 0., 0., 0., 0.],\n",
            "        [0., 0., 0., 1., 0., 0., 0., 0.],\n",
            "        [0., 0., 0., 0., 0., 1., 0., 0.],\n",
            "        [0., 0., 0., 0., 0., 0., 0., 1.],\n",
            "        [0., 0., 0., 0., 0., 0., 1., 0.],\n",
            "        [0., 0., 1., 0., 0., 0., 0., 0.]])\n",
            "y1 correct:  True\n"
          ]
        }
      ],
      "source": [
        "def check_one_hot(x, y):\n",
        "    C = y.shape[1]\n",
        "    for i, n in enumerate(x):\n",
        "        if n >= C: return False\n",
        "        for j in range(C):\n",
        "            expected = 1.0 if j == n else 0.0\n",
        "            if y[i, j].item() != expected: return False\n",
        "        return True\n",
        "\n",
        "x0 = [1, 4, 3, 2]\n",
        "y0 = make_one_hot(x0)\n",
        "print('Here is y0:')\n",
        "print(y0)\n",
        "print('y0 correct: ', check_one_hot(x0, y0))\n",
        "\n",
        "x1 = [1, 3, 5, 7, 6, 2]\n",
        "y1 = make_one_hot(x1)\n",
        "print('\\nHere is y1:')\n",
        "print(y1)\n",
        "print('y1 correct: ', check_one_hot(x1, y1))"
      ]
    },
    {
      "cell_type": "markdown",
      "metadata": {
        "id": "oGt8ZPb_vixw"
      },
      "source": [
        "### Boolean tensor indexing"
      ]
    },
    {
      "cell_type": "markdown",
      "metadata": {
        "id": "6CkQaRj01xmU"
      },
      "source": [
        "Boolean tensor indexing lets you pick out arbitrary elements of a tensor according to a boolean mask. Frequently this type of indexing is used to select or modify the elements of a tensor that satisfy some condition.\n",
        "\n",
        "In PyTorch, we use tensors of dtype `torch.bool` to hold boolean masks.\n",
        "\n",
        "(Prior to version 1.2.0, there was no `torch.bool` type so instead `torch.uint8` was usually used to represent boolean data, with 0 indicating false and 1 indicating true. Watch out for this in older PyTorch code!)"
      ]
    },
    {
      "cell_type": "code",
      "execution_count": 50,
      "metadata": {
        "id": "29Zf7rb82Dkd",
        "colab": {
          "base_uri": "https://localhost:8080/"
        },
        "outputId": "dcc10767-daba-4757-9ace-7ec15510e8de"
      },
      "outputs": [
        {
          "output_type": "stream",
          "name": "stdout",
          "text": [
            "Original tensor:\n",
            "tensor([[1, 2],\n",
            "        [3, 4],\n",
            "        [5, 6]])\n",
            "\n",
            "Mask tensor:\n",
            "tensor([[False, False],\n",
            "        [False,  True],\n",
            "        [ True,  True]])\n",
            "\n",
            "Selecting elements with the mask:\n",
            "tensor([4, 5, 6])\n",
            "\n",
            "After modifying with a mask:\n",
            "tensor([[0, 0],\n",
            "        [0, 4],\n",
            "        [5, 6]])\n"
          ]
        }
      ],
      "source": [
        "a = torch.tensor([[1,2], [3, 4], [5, 6]])\n",
        "print('Original tensor:')\n",
        "print(a)\n",
        "\n",
        "# Find the elements of a that are bigger than 3. The mask has the same shape as\n",
        "# a, where each element of mask tells whether the corresponding element of a\n",
        "# is greater than three.\n",
        "mask = (a > 3)\n",
        "print('\\nMask tensor:')\n",
        "print(mask)\n",
        "\n",
        "# We can use the mask to construct a rank-1 tensor containing the elements of a\n",
        "# that are selected by the mask\n",
        "print('\\nSelecting elements with the mask:')\n",
        "print(a[mask])\n",
        "\n",
        "# We can also use boolean masks to modify tensors; for example this sets all\n",
        "# elements <= 3 to zero:\n",
        "a[a <= 3] = 0\n",
        "print('\\nAfter modifying with a mask:')\n",
        "print(a)"
      ]
    },
    {
      "cell_type": "markdown",
      "metadata": {
        "id": "LtSmmMGodrTX"
      },
      "source": [
        "**Your turn**: In the file `pytorch101.py`, implement the function `sum_positive_entries` which computes the sum of all positive entries in a torch tensor. You can easily accomplish this using boolean tensor indexing. Your implementation should perform only a single indexing operation on the input tensor."
      ]
    },
    {
      "cell_type": "code",
      "execution_count": 51,
      "metadata": {
        "id": "2hkeYXN9d5xh",
        "colab": {
          "base_uri": "https://localhost:8080/"
        },
        "outputId": "af80be81-83fe-4eca-c1e0-1fad0dfb7ffb"
      },
      "outputs": [
        {
          "output_type": "stream",
          "name": "stdout",
          "text": [
            "Correct for x0:  False\n",
            "Correct for x1:  False\n",
            "Correct for x2:  False\n"
          ]
        }
      ],
      "source": [
        "from pytorch101 import sum_positive_entries\n",
        "\n",
        "# Make a few test cases\n",
        "torch.manual_seed(598)\n",
        "x0 = torch.tensor([[-1, -1, 0], [0, 1, 2], [3, 4, 5]])\n",
        "x1 = torch.tensor([-100, 0, 1, 2, 3])\n",
        "x2 = torch.randn(100, 100).long()\n",
        "print('Correct for x0: ', sum_positive_entries(x0) == 15)\n",
        "print('Correct for x1: ', sum_positive_entries(x1) == 6)\n",
        "print('Correct for x2: ', sum_positive_entries(x2) == 1871)"
      ]
    },
    {
      "cell_type": "markdown",
      "metadata": {
        "id": "Ad-xqELwyqpN"
      },
      "source": [
        "## Reshaping operations"
      ]
    },
    {
      "cell_type": "markdown",
      "metadata": {
        "id": "Ql9_eXuU4OG8"
      },
      "source": [
        "### View"
      ]
    },
    {
      "cell_type": "markdown",
      "metadata": {
        "id": "xfPb_2BY0HKw"
      },
      "source": [
        "PyTorch provides many ways to manipulate the shapes of tensors. The simplest example is [`.view()`](https://pytorch.org/docs/stable/generated/torch.Tensor.view.html): This returns a new tensor with the same number of elements as its input, but with a different shape.\n",
        "\n",
        "We can use `.view()` to flatten matrices into vectors, and to convert rank-1 vectors into rank-2 row or column matrices:"
      ]
    },
    {
      "cell_type": "code",
      "execution_count": 52,
      "metadata": {
        "id": "kw-M7C_61FZK",
        "colab": {
          "base_uri": "https://localhost:8080/"
        },
        "outputId": "57aa27bf-52a2-4ac5-a403-6bbf43f41434"
      },
      "outputs": [
        {
          "output_type": "stream",
          "name": "stdout",
          "text": [
            "Original tensor:\n",
            "tensor([[1, 2, 3, 4],\n",
            "        [5, 6, 7, 8]])\n",
            "shape: torch.Size([2, 4])\n",
            "\n",
            "Flattened tensor:\n",
            "tensor([1, 2, 3, 4, 5, 6, 7, 8])\n",
            "shape: torch.Size([8])\n",
            "\n",
            "Row vector:\n",
            "tensor([[1, 2, 3, 4, 5, 6, 7, 8]])\n",
            "shape: torch.Size([1, 8])\n",
            "\n",
            "Column vector:\n",
            "tensor([[1],\n",
            "        [2],\n",
            "        [3],\n",
            "        [4],\n",
            "        [5],\n",
            "        [6],\n",
            "        [7],\n",
            "        [8]])\n",
            "shape: torch.Size([8, 1])\n",
            "\n",
            "Rank 3 tensor:\n",
            "tensor([[[1, 2],\n",
            "         [3, 4]],\n",
            "\n",
            "        [[5, 6],\n",
            "         [7, 8]]])\n",
            "shape: torch.Size([2, 2, 2])\n"
          ]
        }
      ],
      "source": [
        "x0 = torch.tensor([[1, 2, 3, 4], [5, 6, 7, 8]])\n",
        "print('Original tensor:')\n",
        "print(x0)\n",
        "print('shape:', x0.shape)\n",
        "\n",
        "# Flatten x0 into a rank 1 vector of shape (8,)\n",
        "x1 = x0.view(8)\n",
        "print('\\nFlattened tensor:')\n",
        "print(x1)\n",
        "print('shape:', x1.shape)\n",
        "\n",
        "# Convert x1 to a rank 2 \"row vector\" of shape (1, 8)\n",
        "x2 = x1.view(1, 8)\n",
        "print('\\nRow vector:')\n",
        "print(x2)\n",
        "print('shape:', x2.shape)\n",
        "\n",
        "# Convert x1 to a rank 2 \"column vector\" of shape (8, 1)\n",
        "x3 = x1.view(8, 1)\n",
        "print('\\nColumn vector:')\n",
        "print(x3)\n",
        "print('shape:', x3.shape)\n",
        "\n",
        "# Convert x1 to a rank 3 tensor of shape (2, 2, 2):\n",
        "x4 = x1.view(2, 2, 2)\n",
        "print('\\nRank 3 tensor:')\n",
        "print(x4)\n",
        "print('shape:', x4.shape)"
      ]
    },
    {
      "cell_type": "markdown",
      "metadata": {
        "id": "eHsZ8BPF2PEq"
      },
      "source": [
        "As a convenience, calls to `.view()` may include a single -1 argument; this puts enough elements on that dimension so that the output has the same number of elements as the input. This makes it easy to write some reshape operations in a way that is agnostic to the shape of the tensor:"
      ]
    },
    {
      "cell_type": "code",
      "execution_count": 53,
      "metadata": {
        "id": "qNWu-R_J2qFY",
        "colab": {
          "base_uri": "https://localhost:8080/"
        },
        "outputId": "c81bf7f5-9054-4cfc-a15e-d222e03a66b4"
      },
      "outputs": [
        {
          "output_type": "stream",
          "name": "stdout",
          "text": [
            "x0:\n",
            "tensor([[1, 2, 3],\n",
            "        [4, 5, 6]])\n",
            "x0_flat:\n",
            "tensor([1, 2, 3, 4, 5, 6])\n",
            "x0_row:\n",
            "tensor([[1, 2, 3, 4, 5, 6]])\n",
            "\n",
            "x1:\n",
            "tensor([[1, 2],\n",
            "        [3, 4]])\n",
            "x1_flat:\n",
            "tensor([1, 2, 3, 4])\n",
            "x1_row:\n",
            "tensor([[1, 2, 3, 4]])\n"
          ]
        }
      ],
      "source": [
        "# We can reuse these functions for tensors of different shapes\n",
        "def flatten(x):\n",
        "    return x.view(-1)\n",
        "\n",
        "def make_row_vec(x):\n",
        "    return x.view(1, -1)\n",
        "\n",
        "x0 = torch.tensor([[1, 2, 3], [4, 5, 6]])\n",
        "x0_flat = flatten(x0)\n",
        "x0_row = make_row_vec(x0)\n",
        "print('x0:')\n",
        "print(x0)\n",
        "print('x0_flat:')\n",
        "print(x0_flat)\n",
        "print('x0_row:')\n",
        "print(x0_row)\n",
        "\n",
        "x1 = torch.tensor([[1, 2], [3, 4]])\n",
        "x1_flat = flatten(x1)\n",
        "x1_row = make_row_vec(x1)\n",
        "print('\\nx1:')\n",
        "print(x1)\n",
        "print('x1_flat:')\n",
        "print(x1_flat)\n",
        "print('x1_row:')\n",
        "print(x1_row)"
      ]
    },
    {
      "cell_type": "markdown",
      "metadata": {
        "id": "DK-ZB5aB2NPq"
      },
      "source": [
        "As its name implies, a tensor returned by `.view()` shares the same data as the input, so changes to one will affect the other and vice-versa:"
      ]
    },
    {
      "cell_type": "code",
      "execution_count": 54,
      "metadata": {
        "id": "ebT99rUo2McN",
        "colab": {
          "base_uri": "https://localhost:8080/"
        },
        "outputId": "64fef83b-2cd1-4fe1-9a87-6412497b5546"
      },
      "outputs": [
        {
          "output_type": "stream",
          "name": "stdout",
          "text": [
            "x before modifying:\n",
            "tensor([[1, 2, 3],\n",
            "        [4, 5, 6]])\n",
            "x_flat before modifying:\n",
            "tensor([1, 2, 3, 4, 5, 6])\n",
            "\n",
            "x after modifying:\n",
            "tensor([[10, 20,  3],\n",
            "        [ 4,  5,  6]])\n",
            "x_flat after modifying:\n",
            "tensor([10, 20,  3,  4,  5,  6])\n"
          ]
        }
      ],
      "source": [
        "x = torch.tensor([[1, 2, 3], [4, 5, 6]])\n",
        "x_flat = x.view(-1)\n",
        "print('x before modifying:')\n",
        "print(x)\n",
        "print('x_flat before modifying:')\n",
        "print(x_flat)\n",
        "\n",
        "x[0, 0] = 10   # x[0, 0] and x_flat[0] point to the same data\n",
        "x_flat[1] = 20 # x_flat[1] and x[0, 1] point to the same data\n",
        "\n",
        "print('\\nx after modifying:')\n",
        "print(x)\n",
        "print('x_flat after modifying:')\n",
        "print(x_flat)"
      ]
    },
    {
      "cell_type": "markdown",
      "metadata": {
        "id": "Z150qBob4Wkz"
      },
      "source": [
        "### Swapping axes"
      ]
    },
    {
      "cell_type": "markdown",
      "metadata": {
        "id": "TCMDxbyBys78"
      },
      "source": [
        "Another common reshape operation you might want to perform is transposing a matrix. You might be surprised if you try to transpose a matrix with `.view()`: The `view()` function takes elements in row-major order, so **you cannot transpose matrices with `.view()`**.\n",
        "\n",
        "In general, you should only use `.view()` to add new dimensions to a tensor, or to collapse adjacent dimensions of a tensor.\n",
        "\n",
        "For other types of reshape operations, you usually need to use a function that can swap axes of a tensor. The simplest such function is `.t()`, specificially for transposing matrices. It is available both as a [function in the `torch` module](https://pytorch.org/docs/stable/generated/torch.t.html#torch.t), and as a [tensor instance method](https://pytorch.org/docs/stable/generated/torch.Tensor.t.html):"
      ]
    },
    {
      "cell_type": "code",
      "execution_count": 55,
      "metadata": {
        "id": "o_B4NuX6zQm-",
        "colab": {
          "base_uri": "https://localhost:8080/"
        },
        "outputId": "1bebbadb-278a-4829-812d-c5f446b3fe77"
      },
      "outputs": [
        {
          "output_type": "stream",
          "name": "stdout",
          "text": [
            "Original matrix:\n",
            "tensor([[1, 2, 3],\n",
            "        [4, 5, 6]])\n",
            "\n",
            "Transposing with view DOES NOT WORK!\n",
            "tensor([[1, 2],\n",
            "        [3, 4],\n",
            "        [5, 6]])\n",
            "\n",
            "Transposed matrix:\n",
            "tensor([[1, 4],\n",
            "        [2, 5],\n",
            "        [3, 6]])\n",
            "tensor([[1, 4],\n",
            "        [2, 5],\n",
            "        [3, 6]])\n"
          ]
        }
      ],
      "source": [
        "x = torch.tensor([[1, 2, 3], [4, 5, 6]])\n",
        "print('Original matrix:')\n",
        "print(x)\n",
        "print('\\nTransposing with view DOES NOT WORK!')\n",
        "print(x.view(3, 2))\n",
        "print('\\nTransposed matrix:')\n",
        "print(torch.t(x))\n",
        "print(x.t())"
      ]
    },
    {
      "cell_type": "markdown",
      "metadata": {
        "id": "RN93xo98zn0v"
      },
      "source": [
        "For tensors with more than two dimensions, we can use the function [`torch.transpose`](https://pytorch.org/docs/stable/generated/torch.transpose.html) (or its [instance method variant](https://pytorch.org/docs/stable/generated/torch.Tensor.transpose.html)) to swap arbitrary dimensions.\n",
        "\n",
        "If you want to swap multiple axes at the same time, you can use [`torch.permute`](https://pytorch.org/docs/stable/generated/torch.permute.html) (or its [instance method variant](https://pytorch.org/docs/stable/generated/torch.Tensor.permute.html)) method to arbitrarily permute dimensions:"
      ]
    },
    {
      "cell_type": "code",
      "execution_count": 56,
      "metadata": {
        "id": "XgN7YB8YzzkA",
        "colab": {
          "base_uri": "https://localhost:8080/"
        },
        "outputId": "1da4807f-81e6-4e3f-b891-efb9ba3ee6ba"
      },
      "outputs": [
        {
          "output_type": "stream",
          "name": "stdout",
          "text": [
            "Original tensor:\n",
            "tensor([[[ 1,  2,  3,  4],\n",
            "         [ 5,  6,  7,  8],\n",
            "         [ 9, 10, 11, 12]],\n",
            "\n",
            "        [[13, 14, 15, 16],\n",
            "         [17, 18, 19, 20],\n",
            "         [21, 22, 23, 24]]])\n",
            "shape: torch.Size([2, 3, 4])\n",
            "\n",
            "Swap axes 1 and 2:\n",
            "tensor([[[ 1,  5,  9],\n",
            "         [ 2,  6, 10],\n",
            "         [ 3,  7, 11],\n",
            "         [ 4,  8, 12]],\n",
            "\n",
            "        [[13, 17, 21],\n",
            "         [14, 18, 22],\n",
            "         [15, 19, 23],\n",
            "         [16, 20, 24]]])\n",
            "torch.Size([2, 4, 3])\n",
            "\n",
            "Permute axes\n",
            "tensor([[[ 1, 13],\n",
            "         [ 2, 14],\n",
            "         [ 3, 15],\n",
            "         [ 4, 16]],\n",
            "\n",
            "        [[ 5, 17],\n",
            "         [ 6, 18],\n",
            "         [ 7, 19],\n",
            "         [ 8, 20]],\n",
            "\n",
            "        [[ 9, 21],\n",
            "         [10, 22],\n",
            "         [11, 23],\n",
            "         [12, 24]]])\n",
            "shape: torch.Size([3, 4, 2])\n"
          ]
        }
      ],
      "source": [
        "# Create a tensor of shape (2, 3, 4)\n",
        "x0 = torch.tensor([\n",
        "     [[1,  2,  3,  4],\n",
        "      [5,  6,  7,  8],\n",
        "      [9, 10, 11, 12]],\n",
        "     [[13, 14, 15, 16],\n",
        "      [17, 18, 19, 20],\n",
        "      [21, 22, 23, 24]]])\n",
        "print('Original tensor:')\n",
        "print(x0)\n",
        "print('shape:', x0.shape)\n",
        "\n",
        "# Swap axes 1 and 2; shape is (2, 4, 3)\n",
        "x1 = x0.transpose(1, 2)\n",
        "print('\\nSwap axes 1 and 2:')\n",
        "print(x1)\n",
        "print(x1.shape)\n",
        "\n",
        "# Permute axes; the argument (1, 2, 0) means:\n",
        "# - Make the old dimension 1 appear at dimension 0;\n",
        "# - Make the old dimension 2 appear at dimension 1;\n",
        "# - Make the old dimension 0 appear at dimension 2\n",
        "# This results in a tensor of shape (3, 4, 2)\n",
        "x2 = x0.permute(1, 2, 0)\n",
        "print('\\nPermute axes')\n",
        "print(x2)\n",
        "print('shape:', x2.shape)"
      ]
    },
    {
      "cell_type": "markdown",
      "metadata": {
        "id": "f4SJCVbf-bZ0"
      },
      "source": [
        "### Contiguous tensors"
      ]
    },
    {
      "cell_type": "markdown",
      "metadata": {
        "id": "ubOOujO_-pQT"
      },
      "source": [
        "Some combinations of reshaping operations will fail with cryptic errors. The exact reasons for this have to do with the way that tensors and views of tensors are implemented, and are beyond the scope of this assignment. However if you're curious, [this blog post by Edward Yang](http://blog.ezyang.com/2019/05/pytorch-internals/) gives a clear explanation of the problem.\n",
        "\n",
        "What you need to know is that you can typically overcome these sorts of errors by either by calling [`.contiguous()`](https://pytorch.org/docs/stable/generated/torch.Tensor.contiguous.html) before `.view()`, or by using [`.reshape()`](https://pytorch.org/docs/stable/generated/torch.reshape.html) instead of `.view()`."
      ]
    },
    {
      "cell_type": "code",
      "execution_count": 57,
      "metadata": {
        "id": "YGC6NERq_CT9",
        "colab": {
          "base_uri": "https://localhost:8080/"
        },
        "outputId": "75a6171f-75ce-478a-e25d-6f9455281495"
      },
      "outputs": [
        {
          "output_type": "stream",
          "name": "stdout",
          "text": [
            "<class 'RuntimeError'> view size is not compatible with input tensor's size and stride (at least one dimension spans across two contiguous subspaces). Use .reshape(...) instead.\n",
            "x1 shape:  torch.Size([8, 3])\n",
            "x2 shape:  torch.Size([8, 3])\n"
          ]
        }
      ],
      "source": [
        "x0 = torch.randn(2, 3, 4)\n",
        "\n",
        "try:\n",
        "  # This sequence of reshape operations will crash\n",
        "  x1 = x0.transpose(1, 2).view(8, 3)\n",
        "except RuntimeError as e:\n",
        "  print(type(e), e)\n",
        "\n",
        "# We can solve the problem using either .contiguous() or .reshape()\n",
        "x1 = x0.transpose(1, 2).contiguous().view(8, 3)\n",
        "x2 = x0.transpose(1, 2).reshape(8, 3)\n",
        "print('x1 shape: ', x1.shape)\n",
        "print('x2 shape: ', x2.shape)"
      ]
    },
    {
      "cell_type": "markdown",
      "metadata": {
        "id": "WJiiBxNE-X8g"
      },
      "source": [
        "### **Your turn**"
      ]
    },
    {
      "cell_type": "markdown",
      "metadata": {
        "id": "iOVzHiX-86Ew"
      },
      "source": [
        "In the file `pytorch101.py`, implement the function `reshape_practice` to practice using reshape operations on tensors. Given the 1-dimensional input tensor `x` containing the numbers 0 through 23 in order, it should the following output tensor `y` of shape `(3, 8)` by using reshape operations on x:\n",
        "\n",
        "\n",
        "```\n",
        "y = tensor([[ 0,  1,  2,  3, 12, 13, 14, 15],\n",
        "            [ 4,  5,  6,  7, 16, 17, 18, 19],\n",
        "            [ 8,  9, 10, 11, 20, 21, 22, 23]])\n",
        "```\n",
        "\n",
        "Hint: You will need to create an intermediate tensor of rank 3"
      ]
    },
    {
      "cell_type": "code",
      "source": [
        "def reshape_practice(x: Tensor) -> Tensor:\n",
        "    y = None\n",
        "    x1 = x.view(2, 3, 4)\n",
        "    x2 = x1.transpose(0,1)\n",
        "    y = x2.reshape(3, 8)\n",
        "    pass\n",
        "    return y"
      ],
      "metadata": {
        "id": "uUJfgS_2g_JP"
      },
      "execution_count": 58,
      "outputs": []
    },
    {
      "cell_type": "code",
      "execution_count": 59,
      "metadata": {
        "id": "8reAZGzFVTQ3",
        "colab": {
          "base_uri": "https://localhost:8080/"
        },
        "outputId": "1503e252-8a42-4cec-b9fa-b18f1ffb01a9"
      },
      "outputs": [
        {
          "output_type": "stream",
          "name": "stdout",
          "text": [
            "Here is x:\n",
            "tensor([ 0,  1,  2,  3,  4,  5,  6,  7,  8,  9, 10, 11, 12, 13, 14, 15, 16, 17,\n",
            "        18, 19, 20, 21, 22, 23])\n",
            "Here is y:\n",
            "tensor([[ 0,  1,  2,  3, 12, 13, 14, 15],\n",
            "        [ 4,  5,  6,  7, 16, 17, 18, 19],\n",
            "        [ 8,  9, 10, 11, 20, 21, 22, 23]])\n",
            "Correct: True\n"
          ]
        }
      ],
      "source": [
        "x = torch.arange(24)\n",
        "print('Here is x:')\n",
        "print(x)\n",
        "y = reshape_practice(x)\n",
        "print('Here is y:')\n",
        "print(y)\n",
        "\n",
        "expected = [\n",
        "    [0, 1,  2,  3, 12, 13, 14, 15],\n",
        "    [4, 5,  6,  7, 16, 17, 18, 19],\n",
        "    [8, 9, 10, 11, 20, 21, 22, 23]]\n",
        "print('Correct:', y.tolist() == expected)"
      ]
    },
    {
      "cell_type": "markdown",
      "metadata": {
        "id": "NgcdvD1evxTQ"
      },
      "source": [
        "## Tensor operations\n",
        "So far we have seen how to construct, access, and reshape tensors. But one of the most important reasons to use tensors is for performing computation! PyTorch provides many different operations to perform computations on tensors."
      ]
    },
    {
      "cell_type": "markdown",
      "metadata": {
        "id": "1BCVlPHZ4_Qz"
      },
      "source": [
        "### Elementwise operations"
      ]
    },
    {
      "cell_type": "markdown",
      "metadata": {
        "id": "f2wbN18E5CKI"
      },
      "source": [
        "Basic mathematical functions operate elementwise on tensors, and are available as operator overloads, as functions in the `torch` module, and as instance methods on torch objects; all produce the same results:"
      ]
    },
    {
      "cell_type": "code",
      "execution_count": 60,
      "metadata": {
        "id": "QrMkbk535KRZ",
        "colab": {
          "base_uri": "https://localhost:8080/"
        },
        "outputId": "c12cf0cc-c7f4-4881-8196-710c60dac309"
      },
      "outputs": [
        {
          "output_type": "stream",
          "name": "stdout",
          "text": [
            "Elementwise sum:\n",
            "tensor([[ 6.,  8., 10., 12.]])\n",
            "tensor([[ 6.,  8., 10., 12.]])\n",
            "tensor([[ 6.,  8., 10., 12.]])\n",
            "\n",
            "Elementwise difference:\n",
            "tensor([[-4., -4., -4., -4.]])\n",
            "tensor([[-4., -4., -4., -4.]])\n",
            "tensor([[-4., -4., -4., -4.]])\n",
            "\n",
            "Elementwise product:\n",
            "tensor([[ 5., 12., 21., 32.]])\n",
            "tensor([[ 5., 12., 21., 32.]])\n",
            "tensor([[ 5., 12., 21., 32.]])\n",
            "\n",
            "Elementwise division\n",
            "tensor([[0.2000, 0.3333, 0.4286, 0.5000]])\n",
            "tensor([[0.2000, 0.3333, 0.4286, 0.5000]])\n",
            "tensor([[0.2000, 0.3333, 0.4286, 0.5000]])\n",
            "\n",
            "Elementwise power\n",
            "tensor([[1.0000e+00, 6.4000e+01, 2.1870e+03, 6.5536e+04]])\n",
            "tensor([[1.0000e+00, 6.4000e+01, 2.1870e+03, 6.5536e+04]])\n",
            "tensor([[1.0000e+00, 6.4000e+01, 2.1870e+03, 6.5536e+04]])\n"
          ]
        }
      ],
      "source": [
        "x = torch.tensor([[1, 2, 3, 4]], dtype=torch.float32)\n",
        "y = torch.tensor([[5, 6, 7, 8]], dtype=torch.float32)\n",
        "\n",
        "# Elementwise sum; all give the same result\n",
        "print('Elementwise sum:')\n",
        "print(x + y)\n",
        "print(torch.add(x, y))\n",
        "print(x.add(y))\n",
        "\n",
        "# Elementwise difference\n",
        "print('\\nElementwise difference:')\n",
        "print(x - y)\n",
        "print(torch.sub(x, y))\n",
        "print(x.sub(y))\n",
        "\n",
        "# Elementwise product\n",
        "print('\\nElementwise product:')\n",
        "print(x * y)\n",
        "print(torch.mul(x, y))\n",
        "print(x.mul(y))\n",
        "\n",
        "# Elementwise division\n",
        "print('\\nElementwise division')\n",
        "print(x / y)\n",
        "print(torch.div(x, y))\n",
        "print(x.div(y))\n",
        "\n",
        "# Elementwise power\n",
        "print('\\nElementwise power')\n",
        "print(x ** y)\n",
        "print(torch.pow(x, y))\n",
        "print(x.pow(y))"
      ]
    },
    {
      "cell_type": "markdown",
      "metadata": {
        "id": "A6WwPJMYlYvN"
      },
      "source": [
        "Torch also provides many standard mathematical functions; these are available both as functions in the `torch` module and as instance methods on tensors:\n",
        "\n",
        "You can find a full list of all available mathematical functions [in the documentation](https://pytorch.org/docs/stable/torch.html#pointwise-ops); many functions in the `torch` module have corresponding instance methods [on tensor objects](https://pytorch.org/docs/stable/tensors.html)."
      ]
    },
    {
      "cell_type": "code",
      "execution_count": 61,
      "metadata": {
        "id": "s87mjsnG58vR",
        "colab": {
          "base_uri": "https://localhost:8080/"
        },
        "outputId": "d35dc0e9-ad09-41dd-a806-cea2ced9c614"
      },
      "outputs": [
        {
          "output_type": "stream",
          "name": "stdout",
          "text": [
            "Square root:\n",
            "tensor([[1.0000, 1.4142, 1.7321, 2.0000]])\n",
            "tensor([[1.0000, 1.4142, 1.7321, 2.0000]])\n",
            "\n",
            "Trig functions:\n",
            "tensor([[ 0.8415,  0.9093,  0.1411, -0.7568]])\n",
            "tensor([[ 0.8415,  0.9093,  0.1411, -0.7568]])\n",
            "tensor([[ 0.5403, -0.4161, -0.9900, -0.6536]])\n",
            "tensor([[ 0.5403, -0.4161, -0.9900, -0.6536]])\n"
          ]
        }
      ],
      "source": [
        "x = torch.tensor([[1, 2, 3, 4]], dtype=torch.float32)\n",
        "\n",
        "print('Square root:')\n",
        "print(torch.sqrt(x))\n",
        "print(x.sqrt())\n",
        "\n",
        "print('\\nTrig functions:')\n",
        "print(torch.sin(x))\n",
        "print(x.sin())\n",
        "print(torch.cos(x))\n",
        "print(x.cos())"
      ]
    },
    {
      "cell_type": "markdown",
      "metadata": {
        "id": "yDyH9USAuyZ-"
      },
      "source": [
        "### Reduction operations"
      ]
    },
    {
      "cell_type": "markdown",
      "metadata": {
        "id": "wbHP9SpZHoMO"
      },
      "source": [
        "So far we've seen basic arithmetic operations on tensors that operate elementwise. We may sometimes want to perform operations that aggregate over part or all of a tensor, such as a summation; these are called **reduction** operations.\n",
        "\n",
        "Like the elementwise operations above, most reduction operations are available both as functions in the `torch` module and as instance methods on `tensor` objects.\n",
        "\n",
        "The simplest reduction operation is summation. We can use the [`.sum()`](https://pytorch.org/docs/stable/generated/torch.Tensor.sum.html) method (or eqivalently [`torch.sum`](https://pytorch.org/docs/stable/generated/torch.sum.html)) to reduce either an entire tensor, or to reduce along only one dimension of the tensor using the `dim` argument:"
      ]
    },
    {
      "cell_type": "code",
      "execution_count": 62,
      "metadata": {
        "id": "LlmsYJWUE2r3",
        "colab": {
          "base_uri": "https://localhost:8080/"
        },
        "outputId": "801622dd-4fbc-4393-9e17-c6b72e9deb9c"
      },
      "outputs": [
        {
          "output_type": "stream",
          "name": "stdout",
          "text": [
            "Original tensor:\n",
            "tensor([[1., 2., 3.],\n",
            "        [4., 5., 6.]])\n",
            "\n",
            "Sum over entire tensor:\n",
            "tensor(21.)\n",
            "tensor(21.)\n",
            "\n",
            "Sum over the first dimension:\n",
            "tensor([5., 7., 9.])\n",
            "tensor([5., 7., 9.])\n",
            "\n",
            "Sum over the second dimension:\n",
            "tensor([ 6., 15.])\n",
            "tensor([ 6., 15.])\n"
          ]
        }
      ],
      "source": [
        "x = torch.tensor([[1, 2, 3],\n",
        "                  [4, 5, 6]], dtype=torch.float32)\n",
        "print('Original tensor:')\n",
        "print(x)\n",
        "\n",
        "print('\\nSum over entire tensor:')\n",
        "print(torch.sum(x))\n",
        "print(x.sum())\n",
        "\n",
        "# We can sum over the first dimension:\n",
        "print('\\nSum over the first dimension:')\n",
        "print(torch.sum(x, dim=0))\n",
        "print(x.sum(dim=0))\n",
        "\n",
        "# Sum over the second dimension:\n",
        "print('\\nSum over the second dimension:')\n",
        "print(torch.sum(x, dim=1))\n",
        "print(x.sum(dim=1))"
      ]
    },
    {
      "cell_type": "markdown",
      "metadata": {
        "id": "vf0BUs-pu1Gm"
      },
      "source": [
        "Students often get confused by the `dim` argument in reduction operations -- how do I sum over rows vs columns?\n",
        "\n",
        "The easiest way to remember is to think about the shapes of the tensors involved.\n",
        "After summing with `dim=d`, the dimension at index `d` of the input is **eliminated** from the shape of the output tensor:"
      ]
    },
    {
      "cell_type": "code",
      "execution_count": 63,
      "metadata": {
        "id": "pA2oQX11u1Gm",
        "colab": {
          "base_uri": "https://localhost:8080/"
        },
        "outputId": "ff9e3680-63e6-41c3-f880-4856499e352e"
      },
      "outputs": [
        {
          "output_type": "stream",
          "name": "stdout",
          "text": [
            "x.shape:  torch.Size([3, 4, 5, 6])\n",
            "x.sum(dim=0).shape:  torch.Size([4, 5, 6])\n",
            "x.sum(dim=1).shape:  torch.Size([3, 5, 6])\n",
            "x.sum(dim=2).shape:  torch.Size([3, 4, 6])\n",
            "x.sum(dim=3).shape:  torch.Size([3, 4, 5])\n"
          ]
        }
      ],
      "source": [
        "# Create a tensor of shape (3, 4, 5, 6)\n",
        "x = torch.randn(3, 4, 5, 6)\n",
        "print('x.shape: ', x.shape)\n",
        "\n",
        "# Summing over dim=0 eliminates the dimension at index 0 (of size 3):\n",
        "print('x.sum(dim=0).shape: ', x.sum(dim=0).shape)\n",
        "\n",
        "# Summing with dim=1 eliminates the dimension at index 1 (of size 4):\n",
        "print('x.sum(dim=1).shape: ', x.sum(dim=1).shape)\n",
        "\n",
        "# Summing with dim=2 eliminates the dimension at index 2 (of size 5):\n",
        "print('x.sum(dim=2).shape: ', x.sum(dim=2).shape)\n",
        "\n",
        "# Summing with dim=3 eliminates the dimension at index 3 (of size 6):\n",
        "print('x.sum(dim=3).shape: ', x.sum(dim=3).shape)"
      ]
    },
    {
      "cell_type": "markdown",
      "metadata": {
        "id": "DzKio_3Quz5a"
      },
      "source": [
        "Other useful reduction operations include [`mean`](https://pytorch.org/docs/stable/generated/torch.mean.html), [`min`](https://pytorch.org/docs/stable/generated/torch.min.html), and [`max`](https://pytorch.org/docs/stable/generated/torch.max.html). You can find a full list of all available reduction operations [in the documentation](https://pytorch.org/docs/stable/torch.html#reduction-ops).\n",
        "\n",
        "Some reduction operations return more than one value; for example `min` returns both the minimum value over the specified dimension, as well as the index where the minimum value occurs:"
      ]
    },
    {
      "cell_type": "code",
      "execution_count": 64,
      "metadata": {
        "id": "TFD7aT54H4ik",
        "colab": {
          "base_uri": "https://localhost:8080/"
        },
        "outputId": "12816d45-070d-42aa-e14f-00a8a1379186"
      },
      "outputs": [
        {
          "output_type": "stream",
          "name": "stdout",
          "text": [
            "Original tensor:\n",
            "tensor([[2., 4., 3., 5.],\n",
            "        [3., 3., 5., 2.]]) torch.Size([2, 4])\n",
            "\n",
            "Overall minimum:  tensor(2.)\n",
            "\n",
            "Minimum along each column:\n",
            "values: tensor([2., 3., 3., 2.])\n",
            "idxs: tensor([0, 1, 0, 1])\n",
            "\n",
            "Minimum along each row:\n",
            "values: tensor([2., 2.])\n",
            "idxs: tensor([0, 3])\n"
          ]
        }
      ],
      "source": [
        "x = torch.tensor([[2, 4, 3, 5], [3, 3, 5, 2]], dtype=torch.float32)\n",
        "print('Original tensor:')\n",
        "print(x, x.shape)\n",
        "\n",
        "# Finding the overall minimum only returns a single value\n",
        "print('\\nOverall minimum: ', x.min())\n",
        "\n",
        "# Compute the minimum along each column; we get both the value and location:\n",
        "# The minimum of the first column is 2, and it appears at index 0;\n",
        "# the minimum of the second column is 3 and it appears at index 1; etc\n",
        "col_min_vals, col_min_idxs = x.min(dim=0)\n",
        "print('\\nMinimum along each column:')\n",
        "print('values:', col_min_vals)\n",
        "print('idxs:', col_min_idxs)\n",
        "\n",
        "# Compute the minimum along each row; we get both the value and the minimum\n",
        "row_min_vals, row_min_idxs = x.min(dim=1)\n",
        "print('\\nMinimum along each row:')\n",
        "print('values:', row_min_vals)\n",
        "print('idxs:', row_min_idxs)"
      ]
    },
    {
      "cell_type": "markdown",
      "metadata": {
        "id": "XFwYRESoFr4t"
      },
      "source": [
        "Reduction operations *reduce* the rank of tensors: the dimension over which you perform the reduction will be removed from the shape of the output. If you pass `keepdim=True` to a reduction operation, the specified dimension will not be removed; the output tensor will instead have a shape of 1 in that dimension.\n",
        "\n",
        "When you are working with multidimensional tensors, thinking about rows and columns can become confusing; instead it's more useful to think about the shape that will result from each operation. For example:"
      ]
    },
    {
      "cell_type": "code",
      "execution_count": 65,
      "metadata": {
        "id": "sjcAveyJFqm7",
        "colab": {
          "base_uri": "https://localhost:8080/"
        },
        "outputId": "aa6a7c9b-4156-4d1a-959f-f65147cc2e85"
      },
      "outputs": [
        {
          "output_type": "stream",
          "name": "stdout",
          "text": [
            "torch.Size([128, 10, 3, 64, 64])\n",
            "torch.Size([128, 3, 64, 64])\n",
            "torch.Size([128, 3, 64])\n",
            "torch.Size([128, 1, 64])\n"
          ]
        }
      ],
      "source": [
        "# Create a tensor of shape (128, 10, 3, 64, 64)\n",
        "x = torch.randn(128, 10, 3, 64, 64)\n",
        "print(x.shape)\n",
        "\n",
        "# Take the mean over dimension 1; shape is now (128, 3, 64, 64)\n",
        "x = x.mean(dim=1)\n",
        "print(x.shape)\n",
        "\n",
        "# Take the sum over dimension 2; shape is now (128, 3, 64)\n",
        "x = x.sum(dim=2)\n",
        "print(x.shape)\n",
        "\n",
        "# Take the mean over dimension 1, but keep the dimension from being eliminated\n",
        "# by passing keepdim=True; shape is now (128, 1, 64)\n",
        "x = x.mean(dim=1, keepdim=True)\n",
        "print(x.shape)"
      ]
    },
    {
      "cell_type": "markdown",
      "metadata": {
        "id": "gXMp4tcM0Q_E"
      },
      "source": [
        "**Your turn**: In the file `pytorch101.py`, implement the function `zero_row_min` which sets the minimum value along each row of a tensor to zero. You should use reduction and indexing operations, and you should not use any explicit loops.\n",
        "\n",
        "Hint: [`clone`](https://pytorch.org/docs/stable/generated/torch.Tensor.clone.html), [`argmin`](https://pytorch.org/docs/stable/generated/torch.Tensor.argmin.html)"
      ]
    },
    {
      "cell_type": "code",
      "source": [
        "def zero_row_min(x: Tensor) -> Tensor:\n",
        "    y = None\n",
        "    y = x.clone()\n",
        "    min_idxs = x.argmin(dim=1) # 각 행마다 최솟값의 인덱스만 반\n",
        "    row_idx = torch.arange(min_idxs.shape[0])\n",
        "    y[row_idx, min_idxs] = 0\n",
        "    pass\n",
        "    return y"
      ],
      "metadata": {
        "id": "F7Qm-AacuJ4d"
      },
      "execution_count": 66,
      "outputs": []
    },
    {
      "cell_type": "code",
      "execution_count": 67,
      "metadata": {
        "id": "aaJzt-Y62blF",
        "colab": {
          "base_uri": "https://localhost:8080/"
        },
        "outputId": "e19cf1c1-a1dd-4382-ce15-3195e0e331bf"
      },
      "outputs": [
        {
          "output_type": "stream",
          "name": "stdout",
          "text": [
            "Here is x0:\n",
            "tensor([[10, 20, 30],\n",
            "        [ 2,  5,  1]])\n",
            "Here is y0:\n",
            "tensor([[ 0, 20, 30],\n",
            "        [ 2,  5,  0]])\n",
            "y0 correct:  True\n",
            "\n",
            "Here is x1:\n",
            "tensor([[ 2,  5, 10, -1],\n",
            "        [ 1,  3,  2,  4],\n",
            "        [ 5,  6,  2, 10]])\n",
            "Here is y1:\n",
            "tensor([[ 2,  5, 10,  0],\n",
            "        [ 0,  3,  2,  4],\n",
            "        [ 5,  6,  0, 10]])\n",
            "y1 correct:  True\n"
          ]
        }
      ],
      "source": [
        "x0 = torch.tensor([[10, 20, 30], [2, 5, 1]])\n",
        "print('Here is x0:')\n",
        "print(x0)\n",
        "y0 = zero_row_min(x0)\n",
        "print('Here is y0:')\n",
        "print(y0)\n",
        "expected = [[0, 20, 30], [2, 5, 0]]\n",
        "y0_correct = torch.is_tensor(y0) and y0.tolist() == expected\n",
        "print('y0 correct: ', y0_correct)\n",
        "\n",
        "x1 = torch.tensor([[2, 5, 10, -1], [1, 3, 2, 4], [5, 6, 2, 10]])\n",
        "print('\\nHere is x1:')\n",
        "print(x1)\n",
        "y1 = zero_row_min(x1)\n",
        "print('Here is y1:')\n",
        "print(y1)\n",
        "expected = [[2, 5, 10, 0], [0, 3, 2, 4], [5, 6, 0, 10]]\n",
        "y1_correct = torch.is_tensor(y1) and y1.tolist() == expected\n",
        "print('y1 correct: ', y1_correct)"
      ]
    },
    {
      "cell_type": "markdown",
      "metadata": {
        "id": "lRyLyXU2u29N"
      },
      "source": [
        "### Matrix operations"
      ]
    },
    {
      "cell_type": "markdown",
      "metadata": {
        "id": "7DwjbapG6MM_"
      },
      "source": [
        "Note that unlike MATLAB, * is elementwise multiplication, not matrix multiplication. PyTorch provides a number of linear algebra functions that compute different types of vector and matrix products. The most commonly used are:\n",
        "\n",
        "- [`torch.dot`](https://pytorch.org/docs/stable/generated/torch.dot.html): Computes inner product of vectors\n",
        "- [`torch.mm`](https://pytorch.org/docs/stable/generated/torch.mm.html): Computes matrix-matrix products\n",
        "- [`torch.mv`](https://pytorch.org/docs/stable/generated/torch.mv.html): Computes matrix-vector products\n",
        "- [`torch.addmm`](https://pytorch.org/docs/stable/generated/torch.addmm.html) / [`torch.addmv`](https://pytorch.org/docs/stable/generated/torch.addmv.html): Computes matrix-matrix and matrix-vector multiplications plus a bias\n",
        "- [`torch.bmm`](https://pytorch.org/docs/stable/generated/torch.bmm.html) / [`torch.baddmm`](https://pytorch.org/docs/stable/generated/torch.baddbmm.html): Batched versions of `torch.mm` and `torch.addmm`, respectively\n",
        "- [`torch.matmul`](https://pytorch.org/docs/stable/generated/torch.matmul.html): General matrix product that performs different operations depending on the rank of the inputs. Confusingly, this is similar to `np.dot` in numpy.\n",
        "\n",
        "You can find a full list of the available linear algebra operators [in the documentation](https://pytorch.org/docs/stable/torch.html#blas-and-lapack-operations).\n",
        "All of these functions are also available as Tensor instance methods, e.g. [`Tensor.dot`](https://pytorch.org/docs/stable/generated/torch.Tensor.dot.html) instead of `torch.dot`.\n",
        "\n",
        "Here is an example of using `torch.dot` to compute inner products. Like the other mathematical operators we've seen, most linear algebra operators are available both as functions in the `torch` module and as instance methods of tensors:"
      ]
    },
    {
      "cell_type": "code",
      "execution_count": 68,
      "metadata": {
        "id": "TRUYW2as6ZCh",
        "colab": {
          "base_uri": "https://localhost:8080/"
        },
        "outputId": "9a289bfe-0afe-4ea6-b9f1-8063beb5b632"
      },
      "outputs": [
        {
          "output_type": "stream",
          "name": "stdout",
          "text": [
            "Dot products:\n",
            "tensor(219.)\n",
            "tensor(219.)\n",
            "1D tensors expected, but got 2D and 2D tensors\n",
            "\n",
            "Matrix-matrix product:\n",
            "tensor([[19., 22.],\n",
            "        [43., 50.]])\n",
            "tensor([[19., 22.],\n",
            "        [43., 50.]])\n"
          ]
        }
      ],
      "source": [
        "v = torch.tensor([9,10], dtype=torch.float32)\n",
        "w = torch.tensor([11, 12], dtype=torch.float32)\n",
        "\n",
        "# Inner product of vectors\n",
        "print('Dot products:')\n",
        "print(torch.dot(v, w))\n",
        "print(v.dot(w))\n",
        "\n",
        "# dot only works for vectors -- it will give an error for tensors of rank > 1\n",
        "x = torch.tensor([[1,2],[3,4]], dtype=torch.float32)\n",
        "y = torch.tensor([[5,6],[7,8]], dtype=torch.float32)\n",
        "try:\n",
        "  print(x.dot(y))\n",
        "except RuntimeError as e:\n",
        "  print(e)\n",
        "\n",
        "# Instead we use mm for matrix-matrix products:\n",
        "print('\\nMatrix-matrix product:')\n",
        "print(torch.mm(x, y))\n",
        "print(x.mm(y))"
      ]
    },
    {
      "cell_type": "markdown",
      "metadata": {
        "id": "MQRxK34KdHm3"
      },
      "source": [
        "With all the different linear algebra operators that PyTorch provides, there is usually more than one way to compute something. For example to compute matrix-vector products we can use `torch.mv`; we can reshape the vector to have rank 2 and use `torch.mm`; or we can use `torch.matmul`. All give the same results, but the outputs might have different ranks:"
      ]
    },
    {
      "cell_type": "code",
      "execution_count": 69,
      "metadata": {
        "id": "qqEzcnHkdRYA",
        "colab": {
          "base_uri": "https://localhost:8080/"
        },
        "outputId": "33b17722-726d-4703-a125-0bb4d038f59b"
      },
      "outputs": [
        {
          "output_type": "stream",
          "name": "stdout",
          "text": [
            "Here is x (rank 2):\n",
            "tensor([[1., 2.],\n",
            "        [3., 4.]])\n",
            "\n",
            "Here is v (rank 1):\n",
            "tensor([ 9., 10.])\n",
            "\n",
            "Matrix-vector product with torch.mv (rank 1 output)\n",
            "tensor([29., 67.])\n",
            "tensor([29., 67.])\n",
            "\n",
            "Matrix-vector product with torch.mm (rank 2 output)\n",
            "tensor([[29.],\n",
            "        [67.]])\n",
            "tensor([[29.],\n",
            "        [67.]])\n",
            "\n",
            "Matrix-vector product with torch.matmul (rank 1 output)\n",
            "tensor([29., 67.])\n",
            "tensor([29., 67.])\n"
          ]
        }
      ],
      "source": [
        "print('Here is x (rank 2):')\n",
        "print(x)\n",
        "print('\\nHere is v (rank 1):')\n",
        "print(v)\n",
        "\n",
        "# Matrix-vector multiply with torch.mv produces a rank-1 output\n",
        "print('\\nMatrix-vector product with torch.mv (rank 1 output)')\n",
        "print(torch.mv(x, v))\n",
        "print(x.mv(v))\n",
        "\n",
        "# We can reshape the vector to have rank 2 and use torch.mm to perform\n",
        "# matrix-vector products, but the result will have rank 2\n",
        "print('\\nMatrix-vector product with torch.mm (rank 2 output)')\n",
        "print(torch.mm(x, v.view(2, 1)))\n",
        "print(x.mm(v.view(2, 1)))\n",
        "\n",
        "print('\\nMatrix-vector product with torch.matmul (rank 1 output)')\n",
        "print(torch.matmul(x, v))\n",
        "print(x.matmul(v))"
      ]
    },
    {
      "cell_type": "markdown",
      "metadata": {
        "id": "-eqQJ5IUjtNT"
      },
      "source": [
        "**Your turn**: In the file `pytorch101.py`, look at the function `batched_matrix_multiply`.\n",
        "\n",
        "You should implement the two variants `batched_matrix_multiply_loop` and `batched_matrix_multiply_noloop`; the first should use an explicit Python loop over the batch dimension, and the second should perform batched matrix multiplication using a single PyTorch operation with no explicit loops.\n",
        "\n",
        "Hint: [`torch.stack`](https://pytorch.org/docs/master/generated/torch.stack.html), [`torch.bmm`](https://pytorch.org/docs/stable/generated/torch.bmm.html) may be useful."
      ]
    },
    {
      "cell_type": "code",
      "source": [
        "# x: B x N x M\n",
        "# y: B x M x P\n",
        "\n",
        "def batched_matrix_multiply(x: Tensor, y: Tensor, use_loop: bool = True) -> Tensor:\n",
        "    if use_loop:\n",
        "        return batched_matrix_multiply_loop(x, y)\n",
        "    else:\n",
        "        return batched_matrix_multiply_noloop(x, y)\n",
        "\n",
        "def batched_matrix_multiply_loop(x: Tensor, y: Tensor) -> Tensor:\n",
        "    results = []\n",
        "    for i in range(x.shape[0]): # B\n",
        "        z_i = x[i] @ y[i]  # 행렬곱 (N,M) @ (M,P) = (N,P)\n",
        "        results.append(z_i)\n",
        "\n",
        "    # 리스트를 텐서로 합치기\n",
        "    z = torch.stack(results, dim=0)  # (B,N,P)\n",
        "    return z\n",
        "\n",
        "def batched_matrix_multiply_noloop(x: Tensor, y: Tensor) -> Tensor:\n",
        "    # torch.bmm은 batch matrix multiplication을 한 번에 해줌\n",
        "    z = torch.bmm(x, y)  # (B,N,M) × (B,M,P) → (B,N,P)\n",
        "    return z"
      ],
      "metadata": {
        "id": "MDa6dyyUyriJ"
      },
      "execution_count": 70,
      "outputs": []
    },
    {
      "cell_type": "code",
      "execution_count": 71,
      "metadata": {
        "id": "sZD1VQHKVTRQ",
        "colab": {
          "base_uri": "https://localhost:8080/"
        },
        "outputId": "72c6cd03-f925-4165-a9d6-3394cabdadfa"
      },
      "outputs": [
        {
          "output_type": "stream",
          "name": "stdout",
          "text": [
            "z1 difference:  0.0\n",
            "z1 difference within tolerance:  True\n",
            "\n",
            "z2 difference:  4.76837158203125e-07\n",
            "z2 difference within tolerance:  True\n"
          ]
        }
      ],
      "source": [
        "B, N, M, P = 2, 3, 5, 4\n",
        "x = torch.randn(B, N, M)\n",
        "y = torch.randn(B, M, P)\n",
        "z_expected = torch.stack([x[0] @ y[0], x[1] @ y[1]])\n",
        "\n",
        "# The two may not return exactly the same result; different linear algebra\n",
        "# routines often return slightly different results due to the fact that\n",
        "# floating-point math is non-exact and non-associative.\n",
        "z1 = batched_matrix_multiply(x, y, use_loop=True)\n",
        "z1_diff = (z1 - z_expected).abs().max().item()\n",
        "print('z1 difference: ', z1_diff)\n",
        "print('z1 difference within tolerance: ', z1_diff < 1e-6)\n",
        "\n",
        "z2 = batched_matrix_multiply(x, y, use_loop=False)\n",
        "z2_diff = (z2 - z_expected).abs().max().item()\n",
        "print('\\nz2 difference: ', z2_diff)\n",
        "print('z2 difference within tolerance: ', z2_diff < 1e-6)"
      ]
    },
    {
      "cell_type": "markdown",
      "metadata": {
        "id": "mbCVOr2sVTRR"
      },
      "source": [
        "### Vectorization\n",
        "In many cases, avoiding explicit Python loops in your code and instead using PyTorch operators to handle looping internally will cause your code to run a lot faster. This style of writing code, called **vectorization**, avoids overhead from the Python interpreter, and can also better parallelize the computation (e.g. across CPU cores, on on GPUs). Whenever possible you should strive to write vectorized code.\n",
        "\n",
        "Run the following the compare the speed of the `batched_matrix_multiply` with `use_loop=True` and with `use_loop=False`."
      ]
    },
    {
      "cell_type": "code",
      "execution_count": 72,
      "metadata": {
        "id": "a-acTIOpVTRR",
        "colab": {
          "base_uri": "https://localhost:8080/",
          "height": 0
        },
        "outputId": "93ccc9d5-93aa-4b4b-9f25-cf293f49051b"
      },
      "outputs": [
        {
          "output_type": "display_data",
          "data": {
            "text/plain": [
              "<Figure size 1200x400 with 2 Axes>"
            ],
            "image/png": "[encoded data removed]"
          },
          "metadata": {}
        }
      ],
      "source": [
        "import time\n",
        "import matplotlib.pyplot as plt\n",
        "\n",
        "N, M, P = 64, 64, 64\n",
        "loop_times = []\n",
        "no_loop_times = []\n",
        "no_loop_speedup = []\n",
        "Bs = list(range(4, 128, 4))\n",
        "num_trials = 20\n",
        "for B in Bs:\n",
        "    loop_trials = []\n",
        "    no_loop_trials = []\n",
        "    for trial in range(num_trials):\n",
        "        x = torch.randn(B, N, M)\n",
        "        y = torch.randn(B, M, P)\n",
        "        t0 = time.time()\n",
        "        z1 = batched_matrix_multiply(x, y, use_loop=True)\n",
        "        t1 = time.time()\n",
        "        z2 = batched_matrix_multiply(x, y, use_loop=False)\n",
        "        t2 = time.time()\n",
        "        loop_trials.append(t1 - t0)\n",
        "        no_loop_trials.append(t2 - t1)\n",
        "    loop_mean = torch.tensor(loop_trials).mean().item()\n",
        "    no_loop_mean = torch.tensor(no_loop_trials).mean().item()\n",
        "    loop_times.append(loop_mean)\n",
        "    no_loop_times.append(no_loop_mean)\n",
        "    no_loop_speedup.append(loop_mean / no_loop_mean)\n",
        "\n",
        "plt.subplot(1, 2, 1)\n",
        "plt.plot(Bs, loop_times, 'o-', label='use_loop=True')\n",
        "plt.plot(Bs, no_loop_times, 'o-', label='use_loop=False')\n",
        "plt.xlabel('Batch size B')\n",
        "plt.ylabel('Runtime (s)')\n",
        "plt.legend(fontsize=14)\n",
        "plt.title('Loop vs Vectorized speeds')\n",
        "\n",
        "plt.subplot(1, 2, 2)\n",
        "plt.plot(Bs, no_loop_speedup, '-o')\n",
        "plt.title('Vectorized speedup')\n",
        "plt.xlabel('Batch size B')\n",
        "plt.ylabel('Vectorized speedup')\n",
        "\n",
        "plt.gcf().set_size_inches(12, 4)\n",
        "plt.show()"
      ]
    },
    {
      "cell_type": "markdown",
      "metadata": {
        "id": "UISn2pcf9QjY"
      },
      "source": [
        "## Broadcasting"
      ]
    },
    {
      "cell_type": "markdown",
      "metadata": {
        "id": "fTj6f8VN9UZg"
      },
      "source": [
        "Broadcasting is a powerful mechanism that allows PyTorch to work with arrays of different shapes when performing arithmetic operations. Frequently we have a smaller tensor and a larger tensor, and we want to use the smaller tensor multiple times to perform some operation on the larger tensor.\n",
        "\n",
        "For example, suppose that we want to add a constant vector to each row of a tensor. We could do it like this:\n"
      ]
    },
    {
      "cell_type": "code",
      "execution_count": 73,
      "metadata": {
        "id": "kF0Dhzlu9fef",
        "colab": {
          "base_uri": "https://localhost:8080/"
        },
        "outputId": "3d8806aa-7dbb-4dfe-db29-9c283fd3af7e"
      },
      "outputs": [
        {
          "output_type": "stream",
          "name": "stdout",
          "text": [
            "tensor([[ 2,  2,  4],\n",
            "        [ 5,  5,  7],\n",
            "        [ 8,  8, 10],\n",
            "        [11, 11, 13]])\n"
          ]
        }
      ],
      "source": [
        "# We will add the vector v to each row of the matrix x,\n",
        "# storing the result in the matrix y\n",
        "x = torch.tensor([[1,2,3], [4,5,6], [7,8,9], [10, 11, 12]])\n",
        "v = torch.tensor([1, 0, 1])\n",
        "y = torch.zeros_like(x)   # Create an empty matrix with the same shape as x\n",
        "\n",
        "# Add the vector v to each row of the matrix x with an explicit loop\n",
        "for i in range(4):\n",
        "    y[i, :] = x[i, :] + v\n",
        "\n",
        "print(y)"
      ]
    },
    {
      "cell_type": "markdown",
      "metadata": {
        "id": "7gXpoBKE9vp7"
      },
      "source": [
        "This works; however when the tensor x is very large, computing an explicit loop in Python could be slow. Note that adding the vector v to each row of the tensor x is equivalent to forming a tensor vv by stacking multiple copies of v vertically, then performing elementwise summation of x and vv. We could implement this approach like this:\n"
      ]
    },
    {
      "cell_type": "code",
      "execution_count": 74,
      "metadata": {
        "id": "_2_5cKeu94c2",
        "colab": {
          "base_uri": "https://localhost:8080/"
        },
        "outputId": "9347339c-0ba8-44b8-ac0f-a2845fa399c1"
      },
      "outputs": [
        {
          "output_type": "stream",
          "name": "stdout",
          "text": [
            "tensor([[1, 0, 1],\n",
            "        [1, 0, 1],\n",
            "        [1, 0, 1],\n",
            "        [1, 0, 1]])\n"
          ]
        }
      ],
      "source": [
        "vv = v.repeat((4, 1))  # Stack 4 copies of v on top of each other\n",
        "print(vv)              # Prints \"[[1 0 1]\n",
        "                       #          [1 0 1]\n",
        "                       #          [1 0 1]\n",
        "                       #          [1 0 1]]\""
      ]
    },
    {
      "cell_type": "code",
      "execution_count": 75,
      "metadata": {
        "id": "1KiRj23p-QIs",
        "colab": {
          "base_uri": "https://localhost:8080/"
        },
        "outputId": "58c89693-bf50-41c5-c47f-be009fef6db1"
      },
      "outputs": [
        {
          "output_type": "stream",
          "name": "stdout",
          "text": [
            "tensor([[ 2,  2,  4],\n",
            "        [ 5,  5,  7],\n",
            "        [ 8,  8, 10],\n",
            "        [11, 11, 13]])\n"
          ]
        }
      ],
      "source": [
        "y = x + vv  # Add x and vv elementwise\n",
        "print(y)"
      ]
    },
    {
      "cell_type": "markdown",
      "metadata": {
        "id": "A7NNlSsHBKib"
      },
      "source": [
        "PyTorch broadcasting allows us to perform this computation without actually creating multiple copies of v. Consider this version, using broadcasting:"
      ]
    },
    {
      "cell_type": "code",
      "execution_count": 76,
      "metadata": {
        "id": "2jIiZc-ABBnt",
        "colab": {
          "base_uri": "https://localhost:8080/"
        },
        "outputId": "6d5960ea-ade8-4033-baba-25e5fc10de10"
      },
      "outputs": [
        {
          "output_type": "stream",
          "name": "stdout",
          "text": [
            "tensor([[ 2,  2,  4],\n",
            "        [ 5,  5,  7],\n",
            "        [ 8,  8, 10],\n",
            "        [11, 11, 13]])\n"
          ]
        }
      ],
      "source": [
        "# We will add the vector v to each row of the matrix x,\n",
        "# storing the result in the matrix y\n",
        "x = torch.tensor([[1,2,3], [4,5,6], [7,8,9], [10, 11, 12]])\n",
        "v = torch.tensor([1, 0, 1])\n",
        "y = x + v  # Add v to each row of x using broadcasting\n",
        "print(y)"
      ]
    },
    {
      "cell_type": "markdown",
      "metadata": {
        "id": "HuUBX8YnBSIG"
      },
      "source": [
        "The line y = x + v works even though x has shape (4, 3) and v has shape (3,) due to broadcasting; this line works as if v actually had shape (4, 3), where each row was a copy of v, and the sum was performed elementwise.\n",
        "\n",
        "Broadcasting two tensors together follows these rules:\n",
        "\n",
        "1.   If the tensors do not have the same rank, prepend the shape of the lower rank array with 1s until both shapes have the same length.\n",
        "2.   The two tensors are said to be *compatible* in a dimension if they have the same size in the dimension, or if one of the tensors has size 1 in that dimension.\n",
        "3.   The tensors can be broadcast together if they are compatible in all dimensions.\n",
        "4.   After broadcasting, each tensor behaves as if it had shape equal to the elementwise maximum of shapes of the two input tensors.\n",
        "5.   In any dimension where one tensor had size 1 and the other tensor had size greater than 1, the first tensor behaves as if it were copied along that dimension\n",
        "\n",
        "If this explanation does not make sense, try reading the explanation from the [documentation](https://pytorch.org/docs/stable/notes/broadcasting.html).\n",
        "\n",
        "Broadcasting usually happens implicitly inside many PyTorch operators. However we can also broadcast explicitly using the function [`torch.broadcast_tensors`](https://pytorch.org/docs/stable/generated/torch.broadcast_tensors.html#torch.broadcast_tensors):"
      ]
    },
    {
      "cell_type": "code",
      "execution_count": 77,
      "metadata": {
        "id": "YIlIBao3VTRc",
        "colab": {
          "base_uri": "https://localhost:8080/"
        },
        "outputId": "f9a427e0-bb3a-4be0-bac3-bb60c0bb94ab"
      },
      "outputs": [
        {
          "output_type": "stream",
          "name": "stdout",
          "text": [
            "Here is x (before broadcasting):\n",
            "tensor([[ 1,  2,  3],\n",
            "        [ 4,  5,  6],\n",
            "        [ 7,  8,  9],\n",
            "        [10, 11, 12]])\n",
            "x.shape:  torch.Size([4, 3])\n",
            "\n",
            "Here is v (before broadcasting):\n",
            "tensor([1, 0, 1])\n",
            "v.shape:  torch.Size([3])\n",
            "Here is xx (after) broadcasting):\n",
            "tensor([[ 1,  2,  3],\n",
            "        [ 4,  5,  6],\n",
            "        [ 7,  8,  9],\n",
            "        [10, 11, 12]])\n",
            "xx.shape:  torch.Size([4, 3])\n",
            "\n",
            "Here is vv (after broadcasting):\n",
            "tensor([[1, 0, 1],\n",
            "        [1, 0, 1],\n",
            "        [1, 0, 1],\n",
            "        [1, 0, 1]])\n",
            "vv.shape:  torch.Size([4, 3])\n"
          ]
        }
      ],
      "source": [
        "x = torch.tensor([[1, 2, 3], [4, 5, 6], [7, 8, 9], [10, 11, 12]])\n",
        "v = torch.tensor([1, 0, 1])\n",
        "print('Here is x (before broadcasting):')\n",
        "print(x)\n",
        "print('x.shape: ', x.shape)\n",
        "print('\\nHere is v (before broadcasting):')\n",
        "print(v)\n",
        "print('v.shape: ', v.shape)\n",
        "\n",
        "xx, vv = torch.broadcast_tensors(x, v)\n",
        "print('Here is xx (after) broadcasting):')\n",
        "print(xx)\n",
        "print('xx.shape: ', x.shape)\n",
        "print('\\nHere is vv (after broadcasting):')\n",
        "print(vv)\n",
        "print('vv.shape: ', vv.shape)"
      ]
    },
    {
      "cell_type": "markdown",
      "metadata": {
        "id": "PWXtBo6eVTRf"
      },
      "source": [
        "Notice that after broadcasting, `x` remains the same but `v` has an extra dimension prepended to its shape, and it is duplicated to have the same shape as `x`; since they have the same shape after broadcasting they can be added elementwise.\n",
        "\n",
        "All elementwise functions support broadcasting.\n",
        "Some non-elementwise functions (such as linear algebra routines) also support broadcasting;\n",
        "you can check the documentation to tell whether any particular function supports broadcasting.\n",
        "For example [`torch.mm`](https://pytorch.org/docs/stable/generated/torch.mm.html) does not support broadcasting,\n",
        "but [`torch.matmul`](https://pytorch.org/docs/stable/generated/torch.matmul.html) does.\n",
        "\n",
        "Broadcasting can let us easily implement many different operations. For example we can compute an outer product of vectors:"
      ]
    },
    {
      "cell_type": "code",
      "execution_count": 78,
      "metadata": {
        "id": "_W-k7-hpCwlT",
        "colab": {
          "base_uri": "https://localhost:8080/"
        },
        "outputId": "77f0cf10-505d-4588-d525-d958822b0617"
      },
      "outputs": [
        {
          "output_type": "stream",
          "name": "stdout",
          "text": [
            "tensor([[ 4,  5],\n",
            "        [ 8, 10],\n",
            "        [12, 15]])\n"
          ]
        }
      ],
      "source": [
        "# Compute outer product of vectors\n",
        "v = torch.tensor([1, 2, 3])  # v has shape (3,)\n",
        "w = torch.tensor([4, 5])     # w has shape (2,)\n",
        "# To compute an outer product, we first reshape v to be a column\n",
        "# vector of shape (3, 1); we can then broadcast it against w to yield\n",
        "# an output of shape (3, 2), which is the outer product of v and w:\n",
        "print(v.view(3, 1) * w)"
      ]
    },
    {
      "cell_type": "markdown",
      "metadata": {
        "id": "6a9EcX20moP_"
      },
      "source": [
        "We can add a vector to each row of a matrix:"
      ]
    },
    {
      "cell_type": "code",
      "execution_count": 79,
      "metadata": {
        "id": "9bhmBiwcDF1B",
        "colab": {
          "base_uri": "https://localhost:8080/"
        },
        "outputId": "000b51b1-4035-4b39-f3b2-6b2f080bb22a"
      },
      "outputs": [
        {
          "output_type": "stream",
          "name": "stdout",
          "text": [
            "Here is the matrix:\n",
            "tensor([[1, 2, 3],\n",
            "        [4, 5, 6]])\n",
            "\n",
            "Here is the vector:\n",
            "tensor([1, 2, 3])\n",
            "\n",
            "Add the vector to each row of the matrix:\n",
            "tensor([[2, 4, 6],\n",
            "        [5, 7, 9]])\n"
          ]
        }
      ],
      "source": [
        "x = torch.tensor([[1, 2, 3], [4, 5, 6]])  # x has shape (2, 3)\n",
        "v = torch.tensor([1, 2, 3])               # v has shape (3,)\n",
        "print('Here is the matrix:')\n",
        "print(x)\n",
        "print('\\nHere is the vector:')\n",
        "print(v)\n",
        "\n",
        "# x has shape (2, 3) and v has shape (3,) so they broadcast to (2, 3),\n",
        "# giving the following matrix:\n",
        "print('\\nAdd the vector to each row of the matrix:')\n",
        "print(x + v)"
      ]
    },
    {
      "cell_type": "markdown",
      "metadata": {
        "id": "jYloJIvmm_Me"
      },
      "source": [
        "We can add a vector to each column of a matrix:"
      ]
    },
    {
      "cell_type": "code",
      "execution_count": 80,
      "metadata": {
        "id": "TDTFKACqDK22",
        "colab": {
          "base_uri": "https://localhost:8080/"
        },
        "outputId": "4f0c24e1-046d-4eec-d913-b63b0212da85"
      },
      "outputs": [
        {
          "output_type": "stream",
          "name": "stdout",
          "text": [
            "Here is the matrix:\n",
            "tensor([[1, 2, 3],\n",
            "        [4, 5, 6]])\n",
            "\n",
            "Here is the vector:\n",
            "tensor([4, 5])\n",
            "tensor([[4],\n",
            "        [5]])\n",
            "\n",
            "Add the vector to each column of the matrix:\n",
            "tensor([[ 5,  6,  7],\n",
            "        [ 9, 10, 11]])\n",
            "tensor([[ 5,  6,  7],\n",
            "        [ 9, 10, 11]])\n"
          ]
        }
      ],
      "source": [
        "x = torch.tensor([[1, 2, 3], [4, 5, 6]])  # x has shape (2, 3)\n",
        "w = torch.tensor([4, 5])                  # w has shape (2,)\n",
        "print('Here is the matrix:')\n",
        "print(x)\n",
        "print('\\nHere is the vector:')\n",
        "print(w)\n",
        "print(w.view(-1,1))\n",
        "\n",
        "# x has shape (2, 3) and w has shape (2,). We reshape w to (2, 1);\n",
        "# then when we add the two the result broadcasts to (2, 3):\n",
        "print('\\nAdd the vector to each column of the matrix:')\n",
        "print(x + w.view(-1, 1))\n",
        "\n",
        "# Another solution is the following:\n",
        "# 1. Transpose x so it has shape (3, 2)\n",
        "# 2. Since w has shape (2,), adding will broadcast to (3, 2)\n",
        "# 3. Transpose the result, resulting in a shape (2, 3)\n",
        "print((x.t() + w).t())"
      ]
    },
    {
      "cell_type": "markdown",
      "metadata": {
        "id": "9717YmBBpBfr"
      },
      "source": [
        "Multiply a tensor by a set of constants:"
      ]
    },
    {
      "cell_type": "code",
      "execution_count": 81,
      "metadata": {
        "id": "4UjWDp_XDc_-",
        "colab": {
          "base_uri": "https://localhost:8080/"
        },
        "outputId": "b728332d-3454-49ca-b934-9ed3a1f87d98"
      },
      "outputs": [
        {
          "output_type": "stream",
          "name": "stdout",
          "text": [
            "Here is the matrix:\n",
            "tensor([[1, 2, 3],\n",
            "        [4, 5, 6]])\n",
            "\n",
            "Here is the vector:\n",
            "tensor([  1,  10,  11, 100])\n",
            "tensor([[[  1]],\n",
            "\n",
            "        [[ 10]],\n",
            "\n",
            "        [[ 11]],\n",
            "\n",
            "        [[100]]])\n",
            "\n",
            "Multiply x by a set of constants:\n",
            "tensor([[[  1,   2,   3],\n",
            "         [  4,   5,   6]],\n",
            "\n",
            "        [[ 10,  20,  30],\n",
            "         [ 40,  50,  60]],\n",
            "\n",
            "        [[ 11,  22,  33],\n",
            "         [ 44,  55,  66]],\n",
            "\n",
            "        [[100, 200, 300],\n",
            "         [400, 500, 600]]])\n"
          ]
        }
      ],
      "source": [
        "x = torch.tensor([[1, 2, 3], [4, 5, 6]])  # x has shape (2, 3)\n",
        "c = torch.tensor([1, 10, 11, 100])        # c has shape (4)\n",
        "print('Here is the matrix:')\n",
        "print(x)\n",
        "print('\\nHere is the vector:')\n",
        "print(c)\n",
        "\n",
        "# We do the following:\n",
        "# 1. Reshape c from (4,) to (4, 1, 1)\n",
        "# 2. x has shape (2, 3). Since they have different ranks, when we multiply the\n",
        "#    two, x behaves as if its shape were (1, 2, 3)\n",
        "# 3. The result of the broadcast multiplication between tensor of shape\n",
        "#    (4, 1, 1) and (1, 2, 3) has shape (4, 2, 3)\n",
        "# 4. The result y has shape (4, 2, 3), and y[i] (shape (2, 3)) is equal to\n",
        "#    c[i] * x\n",
        "print(c.view(-1,1,1))\n",
        "y = c.view(-1, 1, 1) * x\n",
        "print('\\nMultiply x by a set of constants:')\n",
        "print(y)"
      ]
    },
    {
      "cell_type": "markdown",
      "metadata": {
        "id": "J2EHXFBFq1ea"
      },
      "source": [
        "**Your turn**: In the file `pytorch101.py`, implement the function `normalize_columns` that normalizes the columns of a matrix. It should compute the mean and standard deviation of each column, then subtract the mean and divide by the standard deviation for each element in the column.\n",
        "\n",
        "Example:\n",
        "```\n",
        "x = [[ 0,  30,  600],\n",
        "     [ 1,  10,  200],\n",
        "     [-1,  20,  400]]\n",
        "```\n",
        "- The first column has mean 0 and std 1\n",
        "- The second column has mean 20 and std 10\n",
        "- The third column has mean 400 and std 200\n",
        "\n",
        "After normalizing the columns, the result should be:\n",
        "```\n",
        "y = [[ 0,  1,  1],\n",
        "     [ 1, -1, -1],\n",
        "     [-1,  0,  0]]\n",
        "```\n",
        "\n",
        "Recall that given scalars $x_1,\\ldots,x_M$ the mean $\\mu$ and standard deviation $\\sigma$ are given by\n",
        "\n",
        "$$\\mu=\\frac{1}{M}\\sum_{i=1}^M x_i \\hspace{4pc} \\sigma = \\sqrt{\\frac{1}{M-1}\\sum_{i=1}^M(x_i-\\mu)^2}$$"
      ]
    },
    {
      "cell_type": "code",
      "source": [
        "def normalize_columns(x: Tensor) -> Tensor:\n",
        "    y = None\n",
        "    M, N = x.shape\n",
        "\n",
        "    # 1. 열별 평균 계산\n",
        "    mu = x.sum(dim=0) / M  # shape (N,)\n",
        "\n",
        "    # 2. 열별 분산 계산\n",
        "    var = ((x - mu)**2).sum(dim=0) / (M-1)  # shape (N,)\n",
        "\n",
        "    # 3. 표준편차 계산\n",
        "    sigma = var.sqrt()  # shape (N,)\n",
        "\n",
        "    # 4. 정규화\n",
        "    y = (x - mu) / sigma  # Broadcasting 자동 적용\n",
        "\n",
        "    return y"
      ],
      "metadata": {
        "id": "Hfv3ipSJ_Fyl"
      },
      "execution_count": 82,
      "outputs": []
    },
    {
      "cell_type": "code",
      "execution_count": 83,
      "metadata": {
        "id": "rVh1DMqMr3zl",
        "colab": {
          "base_uri": "https://localhost:8080/"
        },
        "outputId": "41b2d4ac-5249-4280-ea51-d73c4bfb79fb"
      },
      "outputs": [
        {
          "output_type": "stream",
          "name": "stdout",
          "text": [
            "Here is x:\n",
            "tensor([[  0.,  30., 600.],\n",
            "        [  1.,  10., 200.],\n",
            "        [ -1.,  20., 400.]])\n",
            "Here is y:\n",
            "tensor([[ 0.,  1.,  1.],\n",
            "        [ 1., -1., -1.],\n",
            "        [-1.,  0.,  0.]])\n",
            "y correct:  True\n",
            "x unchanged:  True\n"
          ]
        }
      ],
      "source": [
        "x = torch.tensor([[0., 30., 600.], [1., 10., 200.], [-1., 20., 400.]])\n",
        "y = normalize_columns(x)\n",
        "print('Here is x:')\n",
        "print(x)\n",
        "print('Here is y:')\n",
        "print(y)\n",
        "\n",
        "x_expected = [[0., 30., 600.], [1., 10., 200.], [-1., 20., 400.]]\n",
        "y_expected = [[0., 1., 1.], [1., -1., -1.], [-1., 0., 0.]]\n",
        "y_correct = y.tolist() == y_expected\n",
        "x_correct = x.tolist() == x_expected\n",
        "print('y correct: ', y_correct)\n",
        "print('x unchanged: ', x_correct)"
      ]
    },
    {
      "cell_type": "markdown",
      "metadata": {
        "id": "NlJs-yN4VTRp"
      },
      "source": [
        "### Out-of-place vs in-place operators\n",
        "Most PyTorch operators are classified into one of two categories:\n",
        "- **Out-of-place operators:** return a new tensor. Most PyTorch operators behave this way.\n",
        "- **In-place operators:** modify and return the input tensor. Instance methods that end with an underscore (such as `add_()` are in-place. Operators in the `torch` namespace can be made in-place using the `out=` keyword argument.\n",
        "\n",
        "For example:"
      ]
    },
    {
      "cell_type": "code",
      "execution_count": 84,
      "metadata": {
        "id": "lnwGzmU9VTRp",
        "colab": {
          "base_uri": "https://localhost:8080/"
        },
        "outputId": "8bbdc8d1-f836-458c-ea19-7b8065f9190e"
      },
      "outputs": [
        {
          "output_type": "stream",
          "name": "stdout",
          "text": [
            "Out-of-place addition:\n",
            "Before addition:\n",
            "x:  tensor([1, 2, 3])\n",
            "y:  tensor([3, 4, 5])\n",
            "\n",
            "After addition (x and y unchanged):\n",
            "x:  tensor([1, 2, 3])\n",
            "y:  tensor([3, 4, 5])\n",
            "z:  tensor([4, 6, 8])\n",
            "z is x:  False\n",
            "z is y:  False\n",
            "\n",
            "\n",
            "In-place Addition:\n",
            "Before addition:\n",
            "x:  tensor([1, 2, 3])\n",
            "y:  tensor([3, 4, 5])\n",
            "\n",
            "After addition (x is modified):\n",
            "x:  tensor([4, 6, 8])\n",
            "y:  tensor([3, 4, 5])\n",
            "z:  tensor([4, 6, 8])\n",
            "z is x:  False\n",
            "z is y:  False\n"
          ]
        }
      ],
      "source": [
        "# Out-of-place addition creates and returns a new tensor without modifying the inputs:\n",
        "x = torch.tensor([1, 2, 3])\n",
        "y = torch.tensor([3, 4, 5])\n",
        "print('Out-of-place addition:')\n",
        "print('Before addition:')\n",
        "print('x: ', x)\n",
        "print('y: ', y)\n",
        "z = x.add(y)  # Same as z = x + y or z = torch.add(x, y)\n",
        "print('\\nAfter addition (x and y unchanged):')\n",
        "print('x: ', x)\n",
        "print('y: ', y)\n",
        "print('z: ', z)\n",
        "print('z is x: ', z is x)\n",
        "print('z is y: ', z is y)\n",
        "\n",
        "# In-place addition modifies the input tensor:\n",
        "print('\\n\\nIn-place Addition:')\n",
        "print('Before addition:')\n",
        "print('x: ', x)\n",
        "print('y: ', y)\n",
        "x.add_(y)  # Same as x += y or torch.add(x, y, out=x)\n",
        "print('\\nAfter addition (x is modified):')\n",
        "print('x: ', x)\n",
        "print('y: ', y)\n",
        "print('z: ', z)\n",
        "print('z is x: ', z is x)\n",
        "print('z is y: ', z is y)"
      ]
    },
    {
      "cell_type": "markdown",
      "metadata": {
        "id": "uNTk5heeVTRr"
      },
      "source": [
        "In general, **you should avoid in-place operations** since they can cause problems when computing gradients using autograd (which we will cover in a future assignment)."
      ]
    },
    {
      "cell_type": "markdown",
      "metadata": {
        "id": "uN6FfqU9wFeG"
      },
      "source": [
        "## Running on GPU"
      ]
    },
    {
      "cell_type": "markdown",
      "metadata": {
        "id": "Ds6SDTbrwOc1"
      },
      "source": [
        "**Note: this section requires a GPU! If you do not have a computer with a CUDA-enabled GPU, you can complete this portion of the notebook on Google Colab.**\n",
        "\n",
        "One of the most important features of PyTorch is that it can use graphics processing units (GPUs) to accelerate its tensor operations.\n",
        "\n",
        "We can easily check whether PyTorch is configured to use GPUs:\n",
        "\n",
        "Tensors can be moved onto any device using the .to method."
      ]
    },
    {
      "cell_type": "code",
      "execution_count": 85,
      "metadata": {
        "id": "_RkoFEVVKWlW",
        "colab": {
          "base_uri": "https://localhost:8080/"
        },
        "outputId": "c84b9dd3-6533-4199-b4a2-3ac23c2b6fb2"
      },
      "outputs": [
        {
          "output_type": "stream",
          "name": "stdout",
          "text": [
            "PyTorch can use GPUs!\n"
          ]
        }
      ],
      "source": [
        "import torch\n",
        "\n",
        "if torch.cuda.is_available():\n",
        "  print('PyTorch can use GPUs!')\n",
        "else:\n",
        "  print('PyTorch cannot use GPUs.')"
      ]
    },
    {
      "cell_type": "markdown",
      "metadata": {
        "id": "7i_5n_XuKr5k"
      },
      "source": [
        "You can enable GPUs in Colab via Runtime -> Change Runtime Type -> Hardware Accelerator -> GPU.\n",
        "\n",
        "This may cause the Colab runtime to restart, so we will re-import torch in the next cell.\n",
        "\n",
        "We have already seen that PyTorch tensors have a `dtype` attribute specifying their datatype. All PyTorch tensors also have a `device` attribute that specifies the device where the tensor is stored -- either CPU, or CUDA (for NVIDA GPUs). A tensor on a CUDA device will automatically use that device to accelerate all of its operations.\n",
        "\n",
        "Just as with datatypes, we can use the [`.to()`](https://pytorch.org/docs/1.1.0/tensors.html#torch.Tensor.to) method to change the device of a tensor. We can also use the convenience methods `.cuda()` and `.cpu()` methods to move tensors between CPU and GPU."
      ]
    },
    {
      "cell_type": "code",
      "execution_count": 86,
      "metadata": {
        "id": "D03s614dMCvy",
        "colab": {
          "base_uri": "https://localhost:8080/"
        },
        "outputId": "997f0224-0fbc-4180-b2cb-962fd0c7f943"
      },
      "outputs": [
        {
          "output_type": "stream",
          "name": "stdout",
          "text": [
            "x0 device: cpu\n",
            "x1 device: cuda:0\n",
            "x2 device: cuda:0\n",
            "x3 device: cpu\n",
            "x4 device: cpu\n",
            "y device / dtype: cuda:0 torch.float64\n",
            "x5 device / dtype: cuda:0 torch.float64\n"
          ]
        }
      ],
      "source": [
        "# Construct a tensor on the CPU\n",
        "x0 = torch.tensor([[1, 2], [3, 4]], dtype=torch.float32)\n",
        "print('x0 device:', x0.device)\n",
        "\n",
        "# Move it to the GPU using .to()\n",
        "x1 = x0.to('cuda')\n",
        "print('x1 device:', x1.device)\n",
        "\n",
        "# Move it to the GPU using .cuda()\n",
        "x2 = x0.cuda()\n",
        "print('x2 device:', x2.device)\n",
        "\n",
        "# Move it back to the CPU using .to()\n",
        "x3 = x1.to('cpu')\n",
        "print('x3 device:', x3.device)\n",
        "\n",
        "# Move it back to the CPU using .cpu()\n",
        "x4 = x2.cpu()\n",
        "print('x4 device:', x4.device)\n",
        "\n",
        "# We can construct tensors directly on the GPU as well\n",
        "y = torch.tensor([[1, 2, 3], [4, 5, 6]], dtype=torch.float64, device='cuda')\n",
        "print('y device / dtype:', y.device, y.dtype)\n",
        "\n",
        "# Calling x.to(y) where y is a tensor will return a copy of x with the same\n",
        "# device and dtype as y\n",
        "x5 = x0.to(y)\n",
        "print('x5 device / dtype:', x5.device, x5.dtype)"
      ]
    },
    {
      "cell_type": "markdown",
      "metadata": {
        "id": "O-TDxICdOmJo"
      },
      "source": [
        "Performing large tensor operations on a GPU can be **a lot faster** than running the equivalent operation on CPU.\n",
        "\n",
        "Here we compare the speed of adding two tensors of shape (10000, 10000) on CPU and GPU:\n",
        "\n",
        "(Note that GPU code may run asynchronously with CPU code, so when timing the speed of operations on the GPU it is important to use `torch.cuda.synchronize` to synchronize the CPU and GPU.)"
      ]
    },
    {
      "cell_type": "code",
      "execution_count": 87,
      "metadata": {
        "id": "GW14ZF-_PK7t",
        "colab": {
          "base_uri": "https://localhost:8080/"
        },
        "outputId": "a78b4db0-87a7-4813-fd70-595f335e4149"
      },
      "outputs": [
        {
          "output_type": "stream",
          "name": "stdout",
          "text": [
            "Max difference between c_gpu and c_cpu: 0.0\n",
            "CPU time: 229.92 ms\n",
            "GPU time: 38.06 ms\n",
            "GPU speedup: 6.04 x\n"
          ]
        }
      ],
      "source": [
        "import time\n",
        "\n",
        "a_cpu = torch.randn(10000, 10000, dtype=torch.float32)\n",
        "b_cpu = torch.randn(10000, 10000, dtype=torch.float32)\n",
        "\n",
        "a_gpu = a_cpu.cuda()\n",
        "b_gpu = b_cpu.cuda()\n",
        "torch.cuda.synchronize()\n",
        "\n",
        "t0 = time.time()\n",
        "c_cpu = a_cpu + b_cpu\n",
        "t1 = time.time()\n",
        "c_gpu = a_gpu + b_gpu\n",
        "torch.cuda.synchronize()\n",
        "t2 = time.time()\n",
        "\n",
        "# Check that they computed the same thing\n",
        "diff = (c_gpu.cpu() - c_cpu).abs().max().item()\n",
        "print('Max difference between c_gpu and c_cpu:', diff)\n",
        "\n",
        "cpu_time = 1000.0 * (t1 - t0)\n",
        "gpu_time = 1000.0 * (t2 - t1)\n",
        "print('CPU time: %.2f ms' % cpu_time)\n",
        "print('GPU time: %.2f ms' % gpu_time)\n",
        "print('GPU speedup: %.2f x' % (cpu_time / gpu_time))"
      ]
    },
    {
      "cell_type": "markdown",
      "metadata": {
        "id": "7HEAVPEwviYb"
      },
      "source": [
        "You should see that running the same computation on the GPU was more than 10~30 times faster than on the CPU! Due to the massive speedups that GPUs offer, we will use GPUs to accelerate much of our machine learning code starting in Assignment 2.\n",
        "\n",
        "**Your turn**: Use the GPU to accelerate the following matrix multiplication operation. You should see 5~10x speedup by using the GPU."
      ]
    },
    {
      "cell_type": "code",
      "execution_count": 96,
      "metadata": {
        "id": "uqEUdst7SAuZ",
        "colab": {
          "base_uri": "https://localhost:8080/"
        },
        "outputId": "24ff24bf-86a0-405a-bb37-7f49e48dbb95"
      },
      "outputs": [
        {
          "output_type": "stream",
          "name": "stdout",
          "text": [
            "y1 on CPU: True\n",
            "Max difference between y0 and y1: 0.001220703125\n",
            "Difference within tolerance: True\n",
            "CPU time: 221.37 ms\n",
            "GPU time: 152.64 ms\n",
            "GPU speedup: 1.45 x\n"
          ]
        }
      ],
      "source": [
        "import time\n",
        "import torch\n",
        "\n",
        "def mm_on_cpu(x, w):\n",
        "    return torch.matmul(x, w)\n",
        "\n",
        "def mm_on_gpu(x, w):\n",
        "    x = x.to('cuda')\n",
        "    w = w.to('cuda')\n",
        "    y = torch.matmul(x, w)\n",
        "    return y.to('cpu')  # CPU 결과와 비교 위해 CPU로 복귀\n",
        "\n",
        "x = torch.rand(512, 4096)\n",
        "w = torch.rand(4096, 4096)\n",
        "\n",
        "t0 = time.time()\n",
        "y0 = mm_on_cpu(x, w)\n",
        "t1 = time.time()\n",
        "\n",
        "y1 = mm_on_gpu(x, w)\n",
        "torch.cuda.synchronize()\n",
        "t2 = time.time()\n",
        "\n",
        "print('y1 on CPU:', y1.device == torch.device('cpu'))\n",
        "diff = (y0 - y1).abs().max().item()\n",
        "print('Max difference between y0 and y1:', diff)\n",
        "print('Difference within tolerance:', diff < 5e-2)\n",
        "\n",
        "cpu_time = 1000.0 * (t1 - t0)\n",
        "gpu_time = 1000.0 * (t2 - t1)\n",
        "print('CPU time: %.2f ms' % cpu_time)\n",
        "print('GPU time: %.2f ms' % gpu_time)\n",
        "print('GPU speedup: %.2f x' % (cpu_time / gpu_time))\n"
      ]
    },
    {
      "cell_type": "markdown",
      "metadata": {
        "id": "vekSz6WtpUXc"
      },
      "source": [
        "Done! Now you can move to kNN.ipynb. Before you move, please check whether you generated any additional cell in every ipynb file (e.g. empty cell after very last code cell)."
      ]
    }
  ],
  "metadata": {
    "colab": {
      "collapsed_sections": [
        "HrBSx6hYu8ca",
        "LWagwmXuvIle",
        "Yz_VDA3IvP33",
        "Rz_hiJD33fu1",
        "mo-PoTWNvbba",
        "4y93rPhGveWw",
        "oGt8ZPb_vixw",
        "Ql9_eXuU4OG8",
        "Z150qBob4Wkz",
        "f4SJCVbf-bZ0",
        "WJiiBxNE-X8g",
        "1BCVlPHZ4_Qz",
        "yDyH9USAuyZ-",
        "lRyLyXU2u29N",
        "mbCVOr2sVTRR",
        "NlJs-yN4VTRp"
      ],
      "provenance": [],
      "gpuType": "T4",
      "include_colab_link": true
    },
    "kernelspec": {
      "display_name": "Python 3",
      "name": "python3"
    },
    "language_info": {
      "codemirror_mode": {
        "name": "ipython",
        "version": 3
      },
      "file_extension": ".py",
      "mimetype": "text/x-python",
      "name": "python",
      "nbconvert_exporter": "python",
      "pygments_lexer": "ipython3",
      "version": "3.8.12"
    },
    "accelerator": "GPU"
  },
  "nbformat": 4,
  "nbformat_minor": 0
}